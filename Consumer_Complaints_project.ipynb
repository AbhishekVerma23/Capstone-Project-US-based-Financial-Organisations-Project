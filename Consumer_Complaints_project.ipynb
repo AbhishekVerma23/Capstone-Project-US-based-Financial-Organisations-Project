{
 "cells": [
  {
   "cell_type": "markdown",
   "metadata": {
    "id": "QXK7MHAWMzcf"
   },
   "source": [
    "# Importing libraries"
   ]
  },
  {
   "cell_type": "code",
   "execution_count": 1,
   "metadata": {
    "id": "KYQ2U2piRinY"
   },
   "outputs": [],
   "source": [
    "# import libraries\n",
    "\n",
    "import pandas as pd \n",
    "import numpy as np\n",
    "import matplotlib.pyplot as plt\n",
    "from matplotlib.colors import ListedColormap\n",
    "import seaborn as sns\n",
    " \n",
    "from warnings import filterwarnings\n",
    "filterwarnings('ignore')\n",
    "\n",
    "pd.options.display.max_columns = None\n",
    "pd.options.display.max_rows = None\n",
    "pd.options.display.float_format = '{:.6f}'.format\n",
    "\n",
    "from sklearn.model_selection import train_test_split\n",
    "\n",
    "import statsmodels\n",
    "import statsmodels.api as sm\n",
    "from statsmodels.api import add_constant\n",
    "from statsmodels.api import Logit\n",
    "\n",
    "from sklearn.preprocessing import StandardScaler \n",
    "from sklearn import metrics\n",
    "from sklearn.linear_model import LogisticRegression\n",
    "from sklearn.metrics import classification_report\n",
    "from sklearn.metrics import cohen_kappa_score\n",
    "from sklearn.metrics import confusion_matrix\n",
    "from sklearn.metrics import roc_curve\n",
    "from sklearn.metrics import accuracy_score\n",
    "from sklearn.metrics import roc_auc_score\n",
    "from sklearn.feature_selection import RFE\n",
    "\n",
    "from sklearn.tree import DecisionTreeClassifier\n",
    "from sklearn.ensemble import RandomForestClassifier\n",
    "from sklearn import tree\n",
    "from sklearn.model_selection import GridSearchCV\n",
    "\n",
    "from sklearn.ensemble import AdaBoostClassifier\n",
    "from sklearn.ensemble import GradientBoostingClassifier\n",
    "from sklearn.ensemble import StackingClassifier\n",
    "from sklearn.naive_bayes import GaussianNB\n",
    "from xgboost import XGBClassifier\n",
    "\n",
    "import imblearn\n",
    "from imblearn.over_sampling import SMOTE\n",
    "from imblearn.under_sampling import RandomUnderSampler\n",
    "\n",
    "from IPython.display import Image \n",
    "\n",
    "plt.rcParams['figure.figsize'] = [15,8]"
   ]
  },
  {
   "cell_type": "code",
   "execution_count": 2,
   "metadata": {
    "id": "ZMbXwZRGT0BN"
   },
   "outputs": [],
   "source": [
    "!pip install -U -q PyDrive\n",
    "  \n",
    "from pydrive.auth import GoogleAuth\n",
    "from pydrive.drive import GoogleDrive\n",
    "from google.colab import auth\n",
    "from oauth2client.client import GoogleCredentials\n",
    "  \n",
    "  \n",
    "# Authenticate and create the PyDrive client.\n",
    "auth.authenticate_user()\n",
    "gauth = GoogleAuth()\n",
    "gauth.credentials = GoogleCredentials.get_application_default()\n",
    "drive = GoogleDrive(gauth)"
   ]
  },
  {
   "cell_type": "code",
   "execution_count": 3,
   "metadata": {
    "colab": {
     "base_uri": "https://localhost:8080/",
     "height": 444
    },
    "id": "oQRgI_gTRink",
    "outputId": "c2039ab2-7544-46ae-e2b6-80e1efca6824",
    "scrolled": true
   },
   "outputs": [
    {
     "data": {
      "text/html": [
       "\n",
       "  <div id=\"df-53818d63-eb90-4d39-ab21-47dfe91b4892\">\n",
       "    <div class=\"colab-df-container\">\n",
       "      <div>\n",
       "<style scoped>\n",
       "    .dataframe tbody tr th:only-of-type {\n",
       "        vertical-align: middle;\n",
       "    }\n",
       "\n",
       "    .dataframe tbody tr th {\n",
       "        vertical-align: top;\n",
       "    }\n",
       "\n",
       "    .dataframe thead th {\n",
       "        text-align: right;\n",
       "    }\n",
       "</style>\n",
       "<table border=\"1\" class=\"dataframe\">\n",
       "  <thead>\n",
       "    <tr style=\"text-align: right;\">\n",
       "      <th></th>\n",
       "      <th>date_received</th>\n",
       "      <th>product</th>\n",
       "      <th>sub_product</th>\n",
       "      <th>issue</th>\n",
       "      <th>sub_issue</th>\n",
       "      <th>consumer_complaint_narrative</th>\n",
       "      <th>company_public_response</th>\n",
       "      <th>company</th>\n",
       "      <th>state</th>\n",
       "      <th>zipcode</th>\n",
       "      <th>tags</th>\n",
       "      <th>consumer_consent_provided</th>\n",
       "      <th>submitted_via</th>\n",
       "      <th>date_sent_to_company</th>\n",
       "      <th>company_response_to_consumer</th>\n",
       "      <th>timely_response</th>\n",
       "      <th>consumer_disputed?</th>\n",
       "      <th>complaint_id</th>\n",
       "    </tr>\n",
       "  </thead>\n",
       "  <tbody>\n",
       "    <tr>\n",
       "      <th>0</th>\n",
       "      <td>08/30/2013</td>\n",
       "      <td>Mortgage</td>\n",
       "      <td>Other mortgage</td>\n",
       "      <td>Loan modification,collection,foreclosure</td>\n",
       "      <td>NaN</td>\n",
       "      <td>NaN</td>\n",
       "      <td>NaN</td>\n",
       "      <td>U.S. Bancorp</td>\n",
       "      <td>CA</td>\n",
       "      <td>95993</td>\n",
       "      <td>NaN</td>\n",
       "      <td>NaN</td>\n",
       "      <td>Referral</td>\n",
       "      <td>09/03/2013</td>\n",
       "      <td>Closed with explanation</td>\n",
       "      <td>Yes</td>\n",
       "      <td>Yes</td>\n",
       "      <td>511074</td>\n",
       "    </tr>\n",
       "    <tr>\n",
       "      <th>1</th>\n",
       "      <td>08/30/2013</td>\n",
       "      <td>Mortgage</td>\n",
       "      <td>Other mortgage</td>\n",
       "      <td>Loan servicing, payments, escrow account</td>\n",
       "      <td>NaN</td>\n",
       "      <td>NaN</td>\n",
       "      <td>NaN</td>\n",
       "      <td>Wells Fargo &amp; Company</td>\n",
       "      <td>CA</td>\n",
       "      <td>91104</td>\n",
       "      <td>NaN</td>\n",
       "      <td>NaN</td>\n",
       "      <td>Referral</td>\n",
       "      <td>09/03/2013</td>\n",
       "      <td>Closed with explanation</td>\n",
       "      <td>Yes</td>\n",
       "      <td>Yes</td>\n",
       "      <td>511080</td>\n",
       "    </tr>\n",
       "    <tr>\n",
       "      <th>2</th>\n",
       "      <td>08/30/2013</td>\n",
       "      <td>Credit reporting</td>\n",
       "      <td>NaN</td>\n",
       "      <td>Incorrect information on credit report</td>\n",
       "      <td>Account status</td>\n",
       "      <td>NaN</td>\n",
       "      <td>NaN</td>\n",
       "      <td>Wells Fargo &amp; Company</td>\n",
       "      <td>NY</td>\n",
       "      <td>11764</td>\n",
       "      <td>NaN</td>\n",
       "      <td>NaN</td>\n",
       "      <td>Postal mail</td>\n",
       "      <td>09/18/2013</td>\n",
       "      <td>Closed with explanation</td>\n",
       "      <td>Yes</td>\n",
       "      <td>No</td>\n",
       "      <td>510473</td>\n",
       "    </tr>\n",
       "    <tr>\n",
       "      <th>3</th>\n",
       "      <td>08/30/2013</td>\n",
       "      <td>Student loan</td>\n",
       "      <td>Non-federal student loan</td>\n",
       "      <td>Repaying your loan</td>\n",
       "      <td>Repaying your loan</td>\n",
       "      <td>NaN</td>\n",
       "      <td>NaN</td>\n",
       "      <td>Navient Solutions, Inc.</td>\n",
       "      <td>MD</td>\n",
       "      <td>21402</td>\n",
       "      <td>NaN</td>\n",
       "      <td>NaN</td>\n",
       "      <td>Email</td>\n",
       "      <td>08/30/2013</td>\n",
       "      <td>Closed with explanation</td>\n",
       "      <td>Yes</td>\n",
       "      <td>Yes</td>\n",
       "      <td>510326</td>\n",
       "    </tr>\n",
       "    <tr>\n",
       "      <th>4</th>\n",
       "      <td>08/30/2013</td>\n",
       "      <td>Debt collection</td>\n",
       "      <td>Credit card</td>\n",
       "      <td>False statements or representation</td>\n",
       "      <td>Attempted to collect wrong amount</td>\n",
       "      <td>NaN</td>\n",
       "      <td>NaN</td>\n",
       "      <td>Resurgent Capital Services L.P.</td>\n",
       "      <td>GA</td>\n",
       "      <td>30106</td>\n",
       "      <td>NaN</td>\n",
       "      <td>NaN</td>\n",
       "      <td>Web</td>\n",
       "      <td>08/30/2013</td>\n",
       "      <td>Closed with explanation</td>\n",
       "      <td>Yes</td>\n",
       "      <td>Yes</td>\n",
       "      <td>511067</td>\n",
       "    </tr>\n",
       "  </tbody>\n",
       "</table>\n",
       "</div>\n",
       "      <button class=\"colab-df-convert\" onclick=\"convertToInteractive('df-53818d63-eb90-4d39-ab21-47dfe91b4892')\"\n",
       "              title=\"Convert this dataframe to an interactive table.\"\n",
       "              style=\"display:none;\">\n",
       "        \n",
       "  <svg xmlns=\"http://www.w3.org/2000/svg\" height=\"24px\"viewBox=\"0 0 24 24\"\n",
       "       width=\"24px\">\n",
       "    <path d=\"M0 0h24v24H0V0z\" fill=\"none\"/>\n",
       "    <path d=\"M18.56 5.44l.94 2.06.94-2.06 2.06-.94-2.06-.94-.94-2.06-.94 2.06-2.06.94zm-11 1L8.5 8.5l.94-2.06 2.06-.94-2.06-.94L8.5 2.5l-.94 2.06-2.06.94zm10 10l.94 2.06.94-2.06 2.06-.94-2.06-.94-.94-2.06-.94 2.06-2.06.94z\"/><path d=\"M17.41 7.96l-1.37-1.37c-.4-.4-.92-.59-1.43-.59-.52 0-1.04.2-1.43.59L10.3 9.45l-7.72 7.72c-.78.78-.78 2.05 0 2.83L4 21.41c.39.39.9.59 1.41.59.51 0 1.02-.2 1.41-.59l7.78-7.78 2.81-2.81c.8-.78.8-2.07 0-2.86zM5.41 20L4 18.59l7.72-7.72 1.47 1.35L5.41 20z\"/>\n",
       "  </svg>\n",
       "      </button>\n",
       "      \n",
       "  <style>\n",
       "    .colab-df-container {\n",
       "      display:flex;\n",
       "      flex-wrap:wrap;\n",
       "      gap: 12px;\n",
       "    }\n",
       "\n",
       "    .colab-df-convert {\n",
       "      background-color: #E8F0FE;\n",
       "      border: none;\n",
       "      border-radius: 50%;\n",
       "      cursor: pointer;\n",
       "      display: none;\n",
       "      fill: #1967D2;\n",
       "      height: 32px;\n",
       "      padding: 0 0 0 0;\n",
       "      width: 32px;\n",
       "    }\n",
       "\n",
       "    .colab-df-convert:hover {\n",
       "      background-color: #E2EBFA;\n",
       "      box-shadow: 0px 1px 2px rgba(60, 64, 67, 0.3), 0px 1px 3px 1px rgba(60, 64, 67, 0.15);\n",
       "      fill: #174EA6;\n",
       "    }\n",
       "\n",
       "    [theme=dark] .colab-df-convert {\n",
       "      background-color: #3B4455;\n",
       "      fill: #D2E3FC;\n",
       "    }\n",
       "\n",
       "    [theme=dark] .colab-df-convert:hover {\n",
       "      background-color: #434B5C;\n",
       "      box-shadow: 0px 1px 3px 1px rgba(0, 0, 0, 0.15);\n",
       "      filter: drop-shadow(0px 1px 2px rgba(0, 0, 0, 0.3));\n",
       "      fill: #FFFFFF;\n",
       "    }\n",
       "  </style>\n",
       "\n",
       "      <script>\n",
       "        const buttonEl =\n",
       "          document.querySelector('#df-53818d63-eb90-4d39-ab21-47dfe91b4892 button.colab-df-convert');\n",
       "        buttonEl.style.display =\n",
       "          google.colab.kernel.accessAllowed ? 'block' : 'none';\n",
       "\n",
       "        async function convertToInteractive(key) {\n",
       "          const element = document.querySelector('#df-53818d63-eb90-4d39-ab21-47dfe91b4892');\n",
       "          const dataTable =\n",
       "            await google.colab.kernel.invokeFunction('convertToInteractive',\n",
       "                                                     [key], {});\n",
       "          if (!dataTable) return;\n",
       "\n",
       "          const docLinkHtml = 'Like what you see? Visit the ' +\n",
       "            '<a target=\"_blank\" href=https://colab.research.google.com/notebooks/data_table.ipynb>data table notebook</a>'\n",
       "            + ' to learn more about interactive tables.';\n",
       "          element.innerHTML = '';\n",
       "          dataTable['output_type'] = 'display_data';\n",
       "          await google.colab.output.renderOutput(dataTable, element);\n",
       "          const docLink = document.createElement('div');\n",
       "          docLink.innerHTML = docLinkHtml;\n",
       "          element.appendChild(docLink);\n",
       "        }\n",
       "      </script>\n",
       "    </div>\n",
       "  </div>\n",
       "  "
      ],
      "text/plain": [
       "  date_received           product               sub_product  \\\n",
       "0    08/30/2013          Mortgage            Other mortgage   \n",
       "1    08/30/2013          Mortgage            Other mortgage   \n",
       "2    08/30/2013  Credit reporting                       NaN   \n",
       "3    08/30/2013      Student loan  Non-federal student loan   \n",
       "4    08/30/2013   Debt collection               Credit card   \n",
       "\n",
       "                                      issue  \\\n",
       "0  Loan modification,collection,foreclosure   \n",
       "1  Loan servicing, payments, escrow account   \n",
       "2    Incorrect information on credit report   \n",
       "3                        Repaying your loan   \n",
       "4        False statements or representation   \n",
       "\n",
       "                           sub_issue consumer_complaint_narrative  \\\n",
       "0                                NaN                          NaN   \n",
       "1                                NaN                          NaN   \n",
       "2                     Account status                          NaN   \n",
       "3                 Repaying your loan                          NaN   \n",
       "4  Attempted to collect wrong amount                          NaN   \n",
       "\n",
       "  company_public_response                          company state zipcode tags  \\\n",
       "0                     NaN                     U.S. Bancorp    CA   95993  NaN   \n",
       "1                     NaN            Wells Fargo & Company    CA   91104  NaN   \n",
       "2                     NaN            Wells Fargo & Company    NY   11764  NaN   \n",
       "3                     NaN          Navient Solutions, Inc.    MD   21402  NaN   \n",
       "4                     NaN  Resurgent Capital Services L.P.    GA   30106  NaN   \n",
       "\n",
       "  consumer_consent_provided submitted_via date_sent_to_company  \\\n",
       "0                       NaN      Referral           09/03/2013   \n",
       "1                       NaN      Referral           09/03/2013   \n",
       "2                       NaN   Postal mail           09/18/2013   \n",
       "3                       NaN         Email           08/30/2013   \n",
       "4                       NaN           Web           08/30/2013   \n",
       "\n",
       "  company_response_to_consumer timely_response consumer_disputed?  \\\n",
       "0      Closed with explanation             Yes                Yes   \n",
       "1      Closed with explanation             Yes                Yes   \n",
       "2      Closed with explanation             Yes                 No   \n",
       "3      Closed with explanation             Yes                Yes   \n",
       "4      Closed with explanation             Yes                Yes   \n",
       "\n",
       "   complaint_id  \n",
       "0        511074  \n",
       "1        511080  \n",
       "2        510473  \n",
       "3        510326  \n",
       "4        511067  "
      ]
     },
     "execution_count": 3,
     "metadata": {},
     "output_type": "execute_result"
    }
   ],
   "source": [
    "link = 'https://drive.google.com/file/d/120wEsROzvOxOlIQSYAkoANMjlRcvRUFZ/view?usp=sharing'\n",
    "\n",
    "# to get the id part of the file\n",
    "id = link.split(\"/\")[-2]\n",
    "  \n",
    "downloaded = drive.CreateFile({'id':id}) \n",
    "downloaded.GetContentFile('consumer_complaints.csv')  \n",
    "  \n",
    "consumer_complaints = pd.read_csv('consumer_complaints.csv')\n",
    "consumer_complaints.head()"
   ]
  },
  {
   "cell_type": "markdown",
   "metadata": {
    "id": "MBJ--_FERinn"
   },
   "source": [
    "# Data Preparation"
   ]
  },
  {
   "cell_type": "code",
   "execution_count": 4,
   "metadata": {
    "id": "becXKN9ERinq"
   },
   "outputs": [],
   "source": [
    "# create copy of data\n",
    "df = consumer_complaints.copy()"
   ]
  },
  {
   "cell_type": "code",
   "execution_count": 5,
   "metadata": {
    "colab": {
     "base_uri": "https://localhost:8080/"
    },
    "id": "Ci4RcIz4Rins",
    "outputId": "975223e3-b8ba-4485-ab30-ac0f972792d3"
   },
   "outputs": [
    {
     "data": {
      "text/plain": [
       "(555957, 18)"
      ]
     },
     "execution_count": 5,
     "metadata": {},
     "output_type": "execute_result"
    }
   ],
   "source": [
    "# dimension\n",
    "\n",
    "df.shape"
   ]
  },
  {
   "cell_type": "code",
   "execution_count": 6,
   "metadata": {
    "colab": {
     "base_uri": "https://localhost:8080/"
    },
    "id": "59yV0zTdRint",
    "outputId": "afc532a3-2cb3-402e-ceec-f69b94b4a94c"
   },
   "outputs": [
    {
     "data": {
      "text/plain": [
       "date_received                   object\n",
       "product                         object\n",
       "sub_product                     object\n",
       "issue                           object\n",
       "sub_issue                       object\n",
       "consumer_complaint_narrative    object\n",
       "company_public_response         object\n",
       "company                         object\n",
       "state                           object\n",
       "zipcode                         object\n",
       "tags                            object\n",
       "consumer_consent_provided       object\n",
       "submitted_via                   object\n",
       "date_sent_to_company            object\n",
       "company_response_to_consumer    object\n",
       "timely_response                 object\n",
       "consumer_disputed?              object\n",
       "complaint_id                     int64\n",
       "dtype: object"
      ]
     },
     "execution_count": 6,
     "metadata": {},
     "output_type": "execute_result"
    }
   ],
   "source": [
    "df.dtypes"
   ]
  },
  {
   "cell_type": "code",
   "execution_count": 7,
   "metadata": {
    "id": "URc4-ckkRinv"
   },
   "outputs": [],
   "source": [
    "df.drop(['complaint_id'], axis=1, inplace= True)"
   ]
  },
  {
   "cell_type": "code",
   "execution_count": 8,
   "metadata": {
    "id": "ynEjT6j5Riny"
   },
   "outputs": [],
   "source": [
    "df.drop(['date_received', 'date_sent_to_company'], axis= 1, inplace= True)"
   ]
  },
  {
   "cell_type": "code",
   "execution_count": 9,
   "metadata": {
    "id": "TivzyqZo7UfF"
   },
   "outputs": [],
   "source": [
    "df.rename(columns = {\"consumer_disputed?\": \"consumer_disputed\"}, inplace = True)"
   ]
  },
  {
   "cell_type": "code",
   "execution_count": 10,
   "metadata": {
    "colab": {
     "base_uri": "https://localhost:8080/",
     "height": 256
    },
    "id": "dEH-_Hd1Rin1",
    "outputId": "063ccc91-6d50-4d39-b524-3700547f4c45"
   },
   "outputs": [
    {
     "data": {
      "text/html": [
       "\n",
       "  <div id=\"df-eb39f17c-7e79-4778-bc18-1201891f8585\">\n",
       "    <div class=\"colab-df-container\">\n",
       "      <div>\n",
       "<style scoped>\n",
       "    .dataframe tbody tr th:only-of-type {\n",
       "        vertical-align: middle;\n",
       "    }\n",
       "\n",
       "    .dataframe tbody tr th {\n",
       "        vertical-align: top;\n",
       "    }\n",
       "\n",
       "    .dataframe thead th {\n",
       "        text-align: right;\n",
       "    }\n",
       "</style>\n",
       "<table border=\"1\" class=\"dataframe\">\n",
       "  <thead>\n",
       "    <tr style=\"text-align: right;\">\n",
       "      <th></th>\n",
       "      <th>product</th>\n",
       "      <th>sub_product</th>\n",
       "      <th>issue</th>\n",
       "      <th>sub_issue</th>\n",
       "      <th>consumer_complaint_narrative</th>\n",
       "      <th>company_public_response</th>\n",
       "      <th>company</th>\n",
       "      <th>state</th>\n",
       "      <th>zipcode</th>\n",
       "      <th>tags</th>\n",
       "      <th>consumer_consent_provided</th>\n",
       "      <th>submitted_via</th>\n",
       "      <th>company_response_to_consumer</th>\n",
       "      <th>timely_response</th>\n",
       "      <th>consumer_disputed</th>\n",
       "    </tr>\n",
       "  </thead>\n",
       "  <tbody>\n",
       "    <tr>\n",
       "      <th>count</th>\n",
       "      <td>555957</td>\n",
       "      <td>397635</td>\n",
       "      <td>555957</td>\n",
       "      <td>212622</td>\n",
       "      <td>66806</td>\n",
       "      <td>85124</td>\n",
       "      <td>555957</td>\n",
       "      <td>551070</td>\n",
       "      <td>551452</td>\n",
       "      <td>77959</td>\n",
       "      <td>123458</td>\n",
       "      <td>555957</td>\n",
       "      <td>555957</td>\n",
       "      <td>555957</td>\n",
       "      <td>555957</td>\n",
       "    </tr>\n",
       "    <tr>\n",
       "      <th>unique</th>\n",
       "      <td>11</td>\n",
       "      <td>46</td>\n",
       "      <td>95</td>\n",
       "      <td>68</td>\n",
       "      <td>65646</td>\n",
       "      <td>10</td>\n",
       "      <td>3605</td>\n",
       "      <td>62</td>\n",
       "      <td>27052</td>\n",
       "      <td>3</td>\n",
       "      <td>4</td>\n",
       "      <td>6</td>\n",
       "      <td>8</td>\n",
       "      <td>2</td>\n",
       "      <td>2</td>\n",
       "    </tr>\n",
       "    <tr>\n",
       "      <th>top</th>\n",
       "      <td>Mortgage</td>\n",
       "      <td>Other mortgage</td>\n",
       "      <td>Loan modification,collection,foreclosure</td>\n",
       "      <td>Account status</td>\n",
       "      <td>This company continues to report on my credit ...</td>\n",
       "      <td>Company chooses not to provide a public response</td>\n",
       "      <td>Bank of America</td>\n",
       "      <td>CA</td>\n",
       "      <td>300XX</td>\n",
       "      <td>Older American</td>\n",
       "      <td>Consent provided</td>\n",
       "      <td>Web</td>\n",
       "      <td>Closed with explanation</td>\n",
       "      <td>Yes</td>\n",
       "      <td>No</td>\n",
       "    </tr>\n",
       "    <tr>\n",
       "      <th>freq</th>\n",
       "      <td>186475</td>\n",
       "      <td>74319</td>\n",
       "      <td>97191</td>\n",
       "      <td>26798</td>\n",
       "      <td>37</td>\n",
       "      <td>52478</td>\n",
       "      <td>55998</td>\n",
       "      <td>81700</td>\n",
       "      <td>1205</td>\n",
       "      <td>45257</td>\n",
       "      <td>66807</td>\n",
       "      <td>361338</td>\n",
       "      <td>404293</td>\n",
       "      <td>541909</td>\n",
       "      <td>443823</td>\n",
       "    </tr>\n",
       "  </tbody>\n",
       "</table>\n",
       "</div>\n",
       "      <button class=\"colab-df-convert\" onclick=\"convertToInteractive('df-eb39f17c-7e79-4778-bc18-1201891f8585')\"\n",
       "              title=\"Convert this dataframe to an interactive table.\"\n",
       "              style=\"display:none;\">\n",
       "        \n",
       "  <svg xmlns=\"http://www.w3.org/2000/svg\" height=\"24px\"viewBox=\"0 0 24 24\"\n",
       "       width=\"24px\">\n",
       "    <path d=\"M0 0h24v24H0V0z\" fill=\"none\"/>\n",
       "    <path d=\"M18.56 5.44l.94 2.06.94-2.06 2.06-.94-2.06-.94-.94-2.06-.94 2.06-2.06.94zm-11 1L8.5 8.5l.94-2.06 2.06-.94-2.06-.94L8.5 2.5l-.94 2.06-2.06.94zm10 10l.94 2.06.94-2.06 2.06-.94-2.06-.94-.94-2.06-.94 2.06-2.06.94z\"/><path d=\"M17.41 7.96l-1.37-1.37c-.4-.4-.92-.59-1.43-.59-.52 0-1.04.2-1.43.59L10.3 9.45l-7.72 7.72c-.78.78-.78 2.05 0 2.83L4 21.41c.39.39.9.59 1.41.59.51 0 1.02-.2 1.41-.59l7.78-7.78 2.81-2.81c.8-.78.8-2.07 0-2.86zM5.41 20L4 18.59l7.72-7.72 1.47 1.35L5.41 20z\"/>\n",
       "  </svg>\n",
       "      </button>\n",
       "      \n",
       "  <style>\n",
       "    .colab-df-container {\n",
       "      display:flex;\n",
       "      flex-wrap:wrap;\n",
       "      gap: 12px;\n",
       "    }\n",
       "\n",
       "    .colab-df-convert {\n",
       "      background-color: #E8F0FE;\n",
       "      border: none;\n",
       "      border-radius: 50%;\n",
       "      cursor: pointer;\n",
       "      display: none;\n",
       "      fill: #1967D2;\n",
       "      height: 32px;\n",
       "      padding: 0 0 0 0;\n",
       "      width: 32px;\n",
       "    }\n",
       "\n",
       "    .colab-df-convert:hover {\n",
       "      background-color: #E2EBFA;\n",
       "      box-shadow: 0px 1px 2px rgba(60, 64, 67, 0.3), 0px 1px 3px 1px rgba(60, 64, 67, 0.15);\n",
       "      fill: #174EA6;\n",
       "    }\n",
       "\n",
       "    [theme=dark] .colab-df-convert {\n",
       "      background-color: #3B4455;\n",
       "      fill: #D2E3FC;\n",
       "    }\n",
       "\n",
       "    [theme=dark] .colab-df-convert:hover {\n",
       "      background-color: #434B5C;\n",
       "      box-shadow: 0px 1px 3px 1px rgba(0, 0, 0, 0.15);\n",
       "      filter: drop-shadow(0px 1px 2px rgba(0, 0, 0, 0.3));\n",
       "      fill: #FFFFFF;\n",
       "    }\n",
       "  </style>\n",
       "\n",
       "      <script>\n",
       "        const buttonEl =\n",
       "          document.querySelector('#df-eb39f17c-7e79-4778-bc18-1201891f8585 button.colab-df-convert');\n",
       "        buttonEl.style.display =\n",
       "          google.colab.kernel.accessAllowed ? 'block' : 'none';\n",
       "\n",
       "        async function convertToInteractive(key) {\n",
       "          const element = document.querySelector('#df-eb39f17c-7e79-4778-bc18-1201891f8585');\n",
       "          const dataTable =\n",
       "            await google.colab.kernel.invokeFunction('convertToInteractive',\n",
       "                                                     [key], {});\n",
       "          if (!dataTable) return;\n",
       "\n",
       "          const docLinkHtml = 'Like what you see? Visit the ' +\n",
       "            '<a target=\"_blank\" href=https://colab.research.google.com/notebooks/data_table.ipynb>data table notebook</a>'\n",
       "            + ' to learn more about interactive tables.';\n",
       "          element.innerHTML = '';\n",
       "          dataTable['output_type'] = 'display_data';\n",
       "          await google.colab.output.renderOutput(dataTable, element);\n",
       "          const docLink = document.createElement('div');\n",
       "          docLink.innerHTML = docLinkHtml;\n",
       "          element.appendChild(docLink);\n",
       "        }\n",
       "      </script>\n",
       "    </div>\n",
       "  </div>\n",
       "  "
      ],
      "text/plain": [
       "         product     sub_product                                     issue  \\\n",
       "count     555957          397635                                    555957   \n",
       "unique        11              46                                        95   \n",
       "top     Mortgage  Other mortgage  Loan modification,collection,foreclosure   \n",
       "freq      186475           74319                                     97191   \n",
       "\n",
       "             sub_issue                       consumer_complaint_narrative  \\\n",
       "count           212622                                              66806   \n",
       "unique              68                                              65646   \n",
       "top     Account status  This company continues to report on my credit ...   \n",
       "freq             26798                                                 37   \n",
       "\n",
       "                                 company_public_response          company  \\\n",
       "count                                              85124           555957   \n",
       "unique                                                10             3605   \n",
       "top     Company chooses not to provide a public response  Bank of America   \n",
       "freq                                               52478            55998   \n",
       "\n",
       "         state zipcode            tags consumer_consent_provided  \\\n",
       "count   551070  551452           77959                    123458   \n",
       "unique      62   27052               3                         4   \n",
       "top         CA   300XX  Older American          Consent provided   \n",
       "freq     81700    1205           45257                     66807   \n",
       "\n",
       "       submitted_via company_response_to_consumer timely_response  \\\n",
       "count         555957                       555957          555957   \n",
       "unique             6                            8               2   \n",
       "top              Web      Closed with explanation             Yes   \n",
       "freq          361338                       404293          541909   \n",
       "\n",
       "       consumer_disputed  \n",
       "count             555957  \n",
       "unique                 2  \n",
       "top                   No  \n",
       "freq              443823  "
      ]
     },
     "execution_count": 10,
     "metadata": {},
     "output_type": "execute_result"
    }
   ],
   "source": [
    "df.describe(include='all')"
   ]
  },
  {
   "cell_type": "code",
   "execution_count": 11,
   "metadata": {
    "colab": {
     "base_uri": "https://localhost:8080/"
    },
    "id": "ah9L1zpkRin2",
    "outputId": "696d0069-4b5c-4990-e449-5f29a5c954a9"
   },
   "outputs": [
    {
     "data": {
      "text/plain": [
       "No    0.798305\n",
       "Yes   0.201695\n",
       "Name: consumer_disputed, dtype: float64"
      ]
     },
     "execution_count": 11,
     "metadata": {},
     "output_type": "execute_result"
    }
   ],
   "source": [
    "df['consumer_disputed'].value_counts(normalize=True)"
   ]
  },
  {
   "cell_type": "code",
   "execution_count": 12,
   "metadata": {
    "colab": {
     "base_uri": "https://localhost:8080/",
     "height": 304
    },
    "id": "ZPjwuOH0Rin3",
    "outputId": "4cd54fa8-9e5e-44f7-e4c8-789329e16115"
   },
   "outputs": [
    {
     "data": {
      "image/png": "[encoded data removed]",
      "text/plain": [
       "<Figure size 432x288 with 1 Axes>"
      ]
     },
     "metadata": {
      "needs_background": "light"
     },
     "output_type": "display_data"
    }
   ],
   "source": [
    "sns.countplot(df['consumer_disputed'])\n",
    "\n",
    "plt.title('Count Plot for Target Variable (consumer_disputed)', fontsize = 15)\n",
    "plt.xlabel('consumer_disputed', fontsize = 15)\n",
    "plt.ylabel('Count', fontsize = 15)\n",
    "plt.show()"
   ]
  },
  {
   "cell_type": "code",
   "execution_count": 13,
   "metadata": {
    "colab": {
     "base_uri": "https://localhost:8080/",
     "height": 663
    },
    "id": "AJCuxgDsRin4",
    "outputId": "574f7d22-3d7a-43fa-bfb0-aeb5b904458f"
   },
   "outputs": [
    {
     "data": {
      "image/png": "[encoded data removed]",
      "text/plain": [
       "<Figure size 1152x648 with 1 Axes>"
      ]
     },
     "metadata": {
      "needs_background": "light"
     },
     "output_type": "display_data"
    }
   ],
   "source": [
    "df['product'].value_counts().plot(kind='bar', title='product', figsize=(16,9))\n",
    "plt.show()"
   ]
  },
  {
   "cell_type": "code",
   "execution_count": 14,
   "metadata": {
    "colab": {
     "base_uri": "https://localhost:8080/",
     "height": 520
    },
    "id": "IDQkdKieRin5",
    "outputId": "95d9d10a-1f3d-40f7-8776-e923571c4618"
   },
   "outputs": [
    {
     "data": {
      "text/html": [
       "\n",
       "  <div id=\"df-ffac9377-23a4-4a4c-83be-cca48f9b2f52\">\n",
       "    <div class=\"colab-df-container\">\n",
       "      <div>\n",
       "<style scoped>\n",
       "    .dataframe tbody tr th:only-of-type {\n",
       "        vertical-align: middle;\n",
       "    }\n",
       "\n",
       "    .dataframe tbody tr th {\n",
       "        vertical-align: top;\n",
       "    }\n",
       "\n",
       "    .dataframe thead th {\n",
       "        text-align: right;\n",
       "    }\n",
       "</style>\n",
       "<table border=\"1\" class=\"dataframe\">\n",
       "  <thead>\n",
       "    <tr style=\"text-align: right;\">\n",
       "      <th></th>\n",
       "      <th>Total</th>\n",
       "      <th>Percentage of Missing Values</th>\n",
       "    </tr>\n",
       "  </thead>\n",
       "  <tbody>\n",
       "    <tr>\n",
       "      <th>consumer_complaint_narrative</th>\n",
       "      <td>489151</td>\n",
       "      <td>87.983603</td>\n",
       "    </tr>\n",
       "    <tr>\n",
       "      <th>tags</th>\n",
       "      <td>477998</td>\n",
       "      <td>85.977513</td>\n",
       "    </tr>\n",
       "    <tr>\n",
       "      <th>company_public_response</th>\n",
       "      <td>470833</td>\n",
       "      <td>84.688744</td>\n",
       "    </tr>\n",
       "    <tr>\n",
       "      <th>consumer_consent_provided</th>\n",
       "      <td>432499</td>\n",
       "      <td>77.793606</td>\n",
       "    </tr>\n",
       "    <tr>\n",
       "      <th>sub_issue</th>\n",
       "      <td>343335</td>\n",
       "      <td>61.755675</td>\n",
       "    </tr>\n",
       "    <tr>\n",
       "      <th>sub_product</th>\n",
       "      <td>158322</td>\n",
       "      <td>28.477382</td>\n",
       "    </tr>\n",
       "    <tr>\n",
       "      <th>state</th>\n",
       "      <td>4887</td>\n",
       "      <td>0.879025</td>\n",
       "    </tr>\n",
       "    <tr>\n",
       "      <th>zipcode</th>\n",
       "      <td>4505</td>\n",
       "      <td>0.810314</td>\n",
       "    </tr>\n",
       "    <tr>\n",
       "      <th>consumer_disputed</th>\n",
       "      <td>0</td>\n",
       "      <td>0.000000</td>\n",
       "    </tr>\n",
       "    <tr>\n",
       "      <th>timely_response</th>\n",
       "      <td>0</td>\n",
       "      <td>0.000000</td>\n",
       "    </tr>\n",
       "    <tr>\n",
       "      <th>company_response_to_consumer</th>\n",
       "      <td>0</td>\n",
       "      <td>0.000000</td>\n",
       "    </tr>\n",
       "    <tr>\n",
       "      <th>submitted_via</th>\n",
       "      <td>0</td>\n",
       "      <td>0.000000</td>\n",
       "    </tr>\n",
       "    <tr>\n",
       "      <th>company</th>\n",
       "      <td>0</td>\n",
       "      <td>0.000000</td>\n",
       "    </tr>\n",
       "    <tr>\n",
       "      <th>issue</th>\n",
       "      <td>0</td>\n",
       "      <td>0.000000</td>\n",
       "    </tr>\n",
       "    <tr>\n",
       "      <th>product</th>\n",
       "      <td>0</td>\n",
       "      <td>0.000000</td>\n",
       "    </tr>\n",
       "  </tbody>\n",
       "</table>\n",
       "</div>\n",
       "      <button class=\"colab-df-convert\" onclick=\"convertToInteractive('df-ffac9377-23a4-4a4c-83be-cca48f9b2f52')\"\n",
       "              title=\"Convert this dataframe to an interactive table.\"\n",
       "              style=\"display:none;\">\n",
       "        \n",
       "  <svg xmlns=\"http://www.w3.org/2000/svg\" height=\"24px\"viewBox=\"0 0 24 24\"\n",
       "       width=\"24px\">\n",
       "    <path d=\"M0 0h24v24H0V0z\" fill=\"none\"/>\n",
       "    <path d=\"M18.56 5.44l.94 2.06.94-2.06 2.06-.94-2.06-.94-.94-2.06-.94 2.06-2.06.94zm-11 1L8.5 8.5l.94-2.06 2.06-.94-2.06-.94L8.5 2.5l-.94 2.06-2.06.94zm10 10l.94 2.06.94-2.06 2.06-.94-2.06-.94-.94-2.06-.94 2.06-2.06.94z\"/><path d=\"M17.41 7.96l-1.37-1.37c-.4-.4-.92-.59-1.43-.59-.52 0-1.04.2-1.43.59L10.3 9.45l-7.72 7.72c-.78.78-.78 2.05 0 2.83L4 21.41c.39.39.9.59 1.41.59.51 0 1.02-.2 1.41-.59l7.78-7.78 2.81-2.81c.8-.78.8-2.07 0-2.86zM5.41 20L4 18.59l7.72-7.72 1.47 1.35L5.41 20z\"/>\n",
       "  </svg>\n",
       "      </button>\n",
       "      \n",
       "  <style>\n",
       "    .colab-df-container {\n",
       "      display:flex;\n",
       "      flex-wrap:wrap;\n",
       "      gap: 12px;\n",
       "    }\n",
       "\n",
       "    .colab-df-convert {\n",
       "      background-color: #E8F0FE;\n",
       "      border: none;\n",
       "      border-radius: 50%;\n",
       "      cursor: pointer;\n",
       "      display: none;\n",
       "      fill: #1967D2;\n",
       "      height: 32px;\n",
       "      padding: 0 0 0 0;\n",
       "      width: 32px;\n",
       "    }\n",
       "\n",
       "    .colab-df-convert:hover {\n",
       "      background-color: #E2EBFA;\n",
       "      box-shadow: 0px 1px 2px rgba(60, 64, 67, 0.3), 0px 1px 3px 1px rgba(60, 64, 67, 0.15);\n",
       "      fill: #174EA6;\n",
       "    }\n",
       "\n",
       "    [theme=dark] .colab-df-convert {\n",
       "      background-color: #3B4455;\n",
       "      fill: #D2E3FC;\n",
       "    }\n",
       "\n",
       "    [theme=dark] .colab-df-convert:hover {\n",
       "      background-color: #434B5C;\n",
       "      box-shadow: 0px 1px 3px 1px rgba(0, 0, 0, 0.15);\n",
       "      filter: drop-shadow(0px 1px 2px rgba(0, 0, 0, 0.3));\n",
       "      fill: #FFFFFF;\n",
       "    }\n",
       "  </style>\n",
       "\n",
       "      <script>\n",
       "        const buttonEl =\n",
       "          document.querySelector('#df-ffac9377-23a4-4a4c-83be-cca48f9b2f52 button.colab-df-convert');\n",
       "        buttonEl.style.display =\n",
       "          google.colab.kernel.accessAllowed ? 'block' : 'none';\n",
       "\n",
       "        async function convertToInteractive(key) {\n",
       "          const element = document.querySelector('#df-ffac9377-23a4-4a4c-83be-cca48f9b2f52');\n",
       "          const dataTable =\n",
       "            await google.colab.kernel.invokeFunction('convertToInteractive',\n",
       "                                                     [key], {});\n",
       "          if (!dataTable) return;\n",
       "\n",
       "          const docLinkHtml = 'Like what you see? Visit the ' +\n",
       "            '<a target=\"_blank\" href=https://colab.research.google.com/notebooks/data_table.ipynb>data table notebook</a>'\n",
       "            + ' to learn more about interactive tables.';\n",
       "          element.innerHTML = '';\n",
       "          dataTable['output_type'] = 'display_data';\n",
       "          await google.colab.output.renderOutput(dataTable, element);\n",
       "          const docLink = document.createElement('div');\n",
       "          docLink.innerHTML = docLinkHtml;\n",
       "          element.appendChild(docLink);\n",
       "        }\n",
       "      </script>\n",
       "    </div>\n",
       "  </div>\n",
       "  "
      ],
      "text/plain": [
       "                               Total  Percentage of Missing Values\n",
       "consumer_complaint_narrative  489151                     87.983603\n",
       "tags                          477998                     85.977513\n",
       "company_public_response       470833                     84.688744\n",
       "consumer_consent_provided     432499                     77.793606\n",
       "sub_issue                     343335                     61.755675\n",
       "sub_product                   158322                     28.477382\n",
       "state                           4887                      0.879025\n",
       "zipcode                         4505                      0.810314\n",
       "consumer_disputed                  0                      0.000000\n",
       "timely_response                    0                      0.000000\n",
       "company_response_to_consumer       0                      0.000000\n",
       "submitted_via                      0                      0.000000\n",
       "company                            0                      0.000000\n",
       "issue                              0                      0.000000\n",
       "product                            0                      0.000000"
      ]
     },
     "execution_count": 14,
     "metadata": {},
     "output_type": "execute_result"
    }
   ],
   "source": [
    "Total = df.isnull().sum().sort_values(ascending=False)          \n",
    "Percent = (df.isnull().sum()*100/df.isnull().count()).sort_values(ascending=False)   \n",
    "\n",
    "missing_data = pd.concat([Total, Percent], axis = 1, keys = ['Total', 'Percentage of Missing Values'])    \n",
    "missing_data"
   ]
  },
  {
   "cell_type": "code",
   "execution_count": 15,
   "metadata": {
    "colab": {
     "base_uri": "https://localhost:8080/",
     "height": 426
    },
    "id": "nJdl5dqGRin6",
    "outputId": "b2701266-ca84-4e23-a55f-6da8a377cb3f"
   },
   "outputs": [
    {
     "data": {
      "image/png": "[encoded data removed]",
      "text/plain": [
       "<Figure size 432x288 with 1 Axes>"
      ]
     },
     "metadata": {
      "needs_background": "light"
     },
     "output_type": "display_data"
    }
   ],
   "source": [
    "sns.heatmap(df.isnull(), cbar=False)\n",
    "plt.show()"
   ]
  },
  {
   "cell_type": "code",
   "execution_count": 16,
   "metadata": {
    "colab": {
     "base_uri": "https://localhost:8080/"
    },
    "id": "8zllAiJyRin7",
    "outputId": "89291516-c42b-4a00-9175-cd277484a226"
   },
   "outputs": [
    {
     "data": {
      "text/plain": [
       "Index(['product', 'sub_product', 'issue', 'company', 'state', 'zipcode',\n",
       "       'submitted_via', 'company_response_to_consumer', 'timely_response',\n",
       "       'consumer_disputed'],\n",
       "      dtype='object')"
      ]
     },
     "execution_count": 16,
     "metadata": {},
     "output_type": "execute_result"
    }
   ],
   "source": [
    "df_removed_na = df.drop(['consumer_complaint_narrative', 'tags', 'company_public_response', \n",
    "                           'consumer_consent_provided', 'sub_issue'], axis = 1)\n",
    "df_removed_na.columns"
   ]
  },
  {
   "cell_type": "code",
   "execution_count": 17,
   "metadata": {
    "id": "lFEcsFafRin8"
   },
   "outputs": [],
   "source": [
    "df_removed_na = df_removed_na.dropna()"
   ]
  },
  {
   "cell_type": "code",
   "execution_count": 18,
   "metadata": {
    "colab": {
     "base_uri": "https://localhost:8080/"
    },
    "id": "mfL978tZRin8",
    "outputId": "816aa906-0bf2-4788-9397-adc8e7dd83e5"
   },
   "outputs": [
    {
     "data": {
      "text/plain": [
       "(393942, 10)"
      ]
     },
     "execution_count": 18,
     "metadata": {},
     "output_type": "execute_result"
    }
   ],
   "source": [
    "df_removed_na.shape"
   ]
  },
  {
   "cell_type": "code",
   "execution_count": 19,
   "metadata": {
    "colab": {
     "base_uri": "https://localhost:8080/",
     "height": 426
    },
    "id": "oB-w1S4jRin9",
    "outputId": "f3ad352a-5eb0-404f-bbb3-1701622eff79"
   },
   "outputs": [
    {
     "data": {
      "image/png": "[encoded data removed]",
      "text/plain": [
       "<Figure size 432x288 with 1 Axes>"
      ]
     },
     "metadata": {
      "needs_background": "light"
     },
     "output_type": "display_data"
    }
   ],
   "source": [
    "sns.heatmap(df_removed_na.isnull(), cbar=False)\n",
    "plt.show()"
   ]
  },
  {
   "cell_type": "code",
   "execution_count": 153,
   "metadata": {
    "colab": {
     "base_uri": "https://localhost:8080/"
    },
    "id": "3RGiAreORin9",
    "outputId": "2c1c56ff-fecf-4f50-88ce-b8fdfd80969c"
   },
   "outputs": [
    {
     "data": {
      "text/plain": [
       "No    0.790314\n",
       "Yes   0.209686\n",
       "Name: consumer_disputed, dtype: float64"
      ]
     },
     "execution_count": 153,
     "metadata": {},
     "output_type": "execute_result"
    }
   ],
   "source": [
    "df_removed_na['consumer_disputed'].value_counts(normalize=True)"
   ]
  },
  {
   "cell_type": "markdown",
   "metadata": {
    "id": "6Ndo5QEIRin-"
   },
   "source": [
    "missing values are treated"
   ]
  },
  {
   "cell_type": "markdown",
   "metadata": {
    "id": "5aseZjicRin_"
   },
   "source": [
    "# Encode all variables"
   ]
  },
  {
   "cell_type": "code",
   "execution_count": 20,
   "metadata": {
    "id": "av5T8wLxRin_"
   },
   "outputs": [],
   "source": [
    "df_dummy = df_removed_na.copy()"
   ]
  },
  {
   "cell_type": "code",
   "execution_count": 21,
   "metadata": {
    "id": "y8IVQNGVRin_"
   },
   "outputs": [],
   "source": [
    "df_dummy_encoded = df_dummy.copy()"
   ]
  },
  {
   "cell_type": "code",
   "execution_count": 22,
   "metadata": {
    "id": "CG-JeekiRioA"
   },
   "outputs": [],
   "source": [
    "df_dummy_encoded['consumer_disputed'] = df_dummy_encoded['consumer_disputed'].map({'No':0,'Yes':1})"
   ]
  },
  {
   "cell_type": "code",
   "execution_count": 23,
   "metadata": {
    "id": "TlW-aeJARioA",
    "scrolled": true
   },
   "outputs": [],
   "source": [
    "# Target Encoding\n",
    "\n",
    "for col in df_dummy.columns:\n",
    "    m = df_dummy_encoded.groupby(col)['consumer_disputed'].mean()\n",
    "    df_dummy_encoded[col] = df_dummy_encoded[col].map(m)"
   ]
  },
  {
   "cell_type": "code",
   "execution_count": 24,
   "metadata": {
    "colab": {
     "base_uri": "https://localhost:8080/",
     "height": 206
    },
    "id": "WWPHPdhZRioB",
    "outputId": "892f114d-ca2d-478f-9531-fc8717e1133b"
   },
   "outputs": [
    {
     "data": {
      "text/html": [
       "\n",
       "  <div id=\"df-6595da4a-c058-44d8-9814-81085df23ff4\">\n",
       "    <div class=\"colab-df-container\">\n",
       "      <div>\n",
       "<style scoped>\n",
       "    .dataframe tbody tr th:only-of-type {\n",
       "        vertical-align: middle;\n",
       "    }\n",
       "\n",
       "    .dataframe tbody tr th {\n",
       "        vertical-align: top;\n",
       "    }\n",
       "\n",
       "    .dataframe thead th {\n",
       "        text-align: right;\n",
       "    }\n",
       "</style>\n",
       "<table border=\"1\" class=\"dataframe\">\n",
       "  <thead>\n",
       "    <tr style=\"text-align: right;\">\n",
       "      <th></th>\n",
       "      <th>product</th>\n",
       "      <th>sub_product</th>\n",
       "      <th>issue</th>\n",
       "      <th>company</th>\n",
       "      <th>state</th>\n",
       "      <th>zipcode</th>\n",
       "      <th>submitted_via</th>\n",
       "      <th>company_response_to_consumer</th>\n",
       "      <th>timely_response</th>\n",
       "      <th>consumer_disputed</th>\n",
       "    </tr>\n",
       "  </thead>\n",
       "  <tbody>\n",
       "    <tr>\n",
       "      <th>0</th>\n",
       "      <td>0.232357</td>\n",
       "      <td>0.202929</td>\n",
       "      <td>0.225879</td>\n",
       "      <td>0.225676</td>\n",
       "      <td>0.222513</td>\n",
       "      <td>0.321429</td>\n",
       "      <td>0.178073</td>\n",
       "      <td>0.225551</td>\n",
       "      <td>0.212770</td>\n",
       "      <td>1</td>\n",
       "    </tr>\n",
       "    <tr>\n",
       "      <th>1</th>\n",
       "      <td>0.232357</td>\n",
       "      <td>0.202929</td>\n",
       "      <td>0.237749</td>\n",
       "      <td>0.230271</td>\n",
       "      <td>0.222513</td>\n",
       "      <td>0.266667</td>\n",
       "      <td>0.178073</td>\n",
       "      <td>0.225551</td>\n",
       "      <td>0.212770</td>\n",
       "      <td>1</td>\n",
       "    </tr>\n",
       "    <tr>\n",
       "      <th>3</th>\n",
       "      <td>0.195840</td>\n",
       "      <td>0.196220</td>\n",
       "      <td>0.201263</td>\n",
       "      <td>0.188415</td>\n",
       "      <td>0.220026</td>\n",
       "      <td>0.500000</td>\n",
       "      <td>0.227848</td>\n",
       "      <td>0.225551</td>\n",
       "      <td>0.212770</td>\n",
       "      <td>1</td>\n",
       "    </tr>\n",
       "    <tr>\n",
       "      <th>4</th>\n",
       "      <td>0.181489</td>\n",
       "      <td>0.188838</td>\n",
       "      <td>0.208728</td>\n",
       "      <td>0.185869</td>\n",
       "      <td>0.200109</td>\n",
       "      <td>0.222222</td>\n",
       "      <td>0.228190</td>\n",
       "      <td>0.225551</td>\n",
       "      <td>0.212770</td>\n",
       "      <td>1</td>\n",
       "    </tr>\n",
       "    <tr>\n",
       "      <th>7</th>\n",
       "      <td>0.196769</td>\n",
       "      <td>0.189255</td>\n",
       "      <td>0.194781</td>\n",
       "      <td>0.221969</td>\n",
       "      <td>0.220241</td>\n",
       "      <td>0.277778</td>\n",
       "      <td>0.178073</td>\n",
       "      <td>0.225551</td>\n",
       "      <td>0.212770</td>\n",
       "      <td>0</td>\n",
       "    </tr>\n",
       "  </tbody>\n",
       "</table>\n",
       "</div>\n",
       "      <button class=\"colab-df-convert\" onclick=\"convertToInteractive('df-6595da4a-c058-44d8-9814-81085df23ff4')\"\n",
       "              title=\"Convert this dataframe to an interactive table.\"\n",
       "              style=\"display:none;\">\n",
       "        \n",
       "  <svg xmlns=\"http://www.w3.org/2000/svg\" height=\"24px\"viewBox=\"0 0 24 24\"\n",
       "       width=\"24px\">\n",
       "    <path d=\"M0 0h24v24H0V0z\" fill=\"none\"/>\n",
       "    <path d=\"M18.56 5.44l.94 2.06.94-2.06 2.06-.94-2.06-.94-.94-2.06-.94 2.06-2.06.94zm-11 1L8.5 8.5l.94-2.06 2.06-.94-2.06-.94L8.5 2.5l-.94 2.06-2.06.94zm10 10l.94 2.06.94-2.06 2.06-.94-2.06-.94-.94-2.06-.94 2.06-2.06.94z\"/><path d=\"M17.41 7.96l-1.37-1.37c-.4-.4-.92-.59-1.43-.59-.52 0-1.04.2-1.43.59L10.3 9.45l-7.72 7.72c-.78.78-.78 2.05 0 2.83L4 21.41c.39.39.9.59 1.41.59.51 0 1.02-.2 1.41-.59l7.78-7.78 2.81-2.81c.8-.78.8-2.07 0-2.86zM5.41 20L4 18.59l7.72-7.72 1.47 1.35L5.41 20z\"/>\n",
       "  </svg>\n",
       "      </button>\n",
       "      \n",
       "  <style>\n",
       "    .colab-df-container {\n",
       "      display:flex;\n",
       "      flex-wrap:wrap;\n",
       "      gap: 12px;\n",
       "    }\n",
       "\n",
       "    .colab-df-convert {\n",
       "      background-color: #E8F0FE;\n",
       "      border: none;\n",
       "      border-radius: 50%;\n",
       "      cursor: pointer;\n",
       "      display: none;\n",
       "      fill: #1967D2;\n",
       "      height: 32px;\n",
       "      padding: 0 0 0 0;\n",
       "      width: 32px;\n",
       "    }\n",
       "\n",
       "    .colab-df-convert:hover {\n",
       "      background-color: #E2EBFA;\n",
       "      box-shadow: 0px 1px 2px rgba(60, 64, 67, 0.3), 0px 1px 3px 1px rgba(60, 64, 67, 0.15);\n",
       "      fill: #174EA6;\n",
       "    }\n",
       "\n",
       "    [theme=dark] .colab-df-convert {\n",
       "      background-color: #3B4455;\n",
       "      fill: #D2E3FC;\n",
       "    }\n",
       "\n",
       "    [theme=dark] .colab-df-convert:hover {\n",
       "      background-color: #434B5C;\n",
       "      box-shadow: 0px 1px 3px 1px rgba(0, 0, 0, 0.15);\n",
       "      filter: drop-shadow(0px 1px 2px rgba(0, 0, 0, 0.3));\n",
       "      fill: #FFFFFF;\n",
       "    }\n",
       "  </style>\n",
       "\n",
       "      <script>\n",
       "        const buttonEl =\n",
       "          document.querySelector('#df-6595da4a-c058-44d8-9814-81085df23ff4 button.colab-df-convert');\n",
       "        buttonEl.style.display =\n",
       "          google.colab.kernel.accessAllowed ? 'block' : 'none';\n",
       "\n",
       "        async function convertToInteractive(key) {\n",
       "          const element = document.querySelector('#df-6595da4a-c058-44d8-9814-81085df23ff4');\n",
       "          const dataTable =\n",
       "            await google.colab.kernel.invokeFunction('convertToInteractive',\n",
       "                                                     [key], {});\n",
       "          if (!dataTable) return;\n",
       "\n",
       "          const docLinkHtml = 'Like what you see? Visit the ' +\n",
       "            '<a target=\"_blank\" href=https://colab.research.google.com/notebooks/data_table.ipynb>data table notebook</a>'\n",
       "            + ' to learn more about interactive tables.';\n",
       "          element.innerHTML = '';\n",
       "          dataTable['output_type'] = 'display_data';\n",
       "          await google.colab.output.renderOutput(dataTable, element);\n",
       "          const docLink = document.createElement('div');\n",
       "          docLink.innerHTML = docLinkHtml;\n",
       "          element.appendChild(docLink);\n",
       "        }\n",
       "      </script>\n",
       "    </div>\n",
       "  </div>\n",
       "  "
      ],
      "text/plain": [
       "   product  sub_product    issue  company    state  zipcode  submitted_via  \\\n",
       "0 0.232357     0.202929 0.225879 0.225676 0.222513 0.321429       0.178073   \n",
       "1 0.232357     0.202929 0.237749 0.230271 0.222513 0.266667       0.178073   \n",
       "3 0.195840     0.196220 0.201263 0.188415 0.220026 0.500000       0.227848   \n",
       "4 0.181489     0.188838 0.208728 0.185869 0.200109 0.222222       0.228190   \n",
       "7 0.196769     0.189255 0.194781 0.221969 0.220241 0.277778       0.178073   \n",
       "\n",
       "   company_response_to_consumer  timely_response  consumer_disputed  \n",
       "0                      0.225551         0.212770                  1  \n",
       "1                      0.225551         0.212770                  1  \n",
       "3                      0.225551         0.212770                  1  \n",
       "4                      0.225551         0.212770                  1  \n",
       "7                      0.225551         0.212770                  0  "
      ]
     },
     "execution_count": 24,
     "metadata": {},
     "output_type": "execute_result"
    }
   ],
   "source": [
    "df_dummy_encoded.head()"
   ]
  },
  {
   "cell_type": "markdown",
   "metadata": {
    "id": "lj3mbJMCzN_P"
   },
   "source": [
    "# SMOTE Analysis"
   ]
  },
  {
   "cell_type": "code",
   "execution_count": 25,
   "metadata": {
    "id": "X3GdhHkSRioC"
   },
   "outputs": [],
   "source": [
    "X = df_dummy_encoded.drop(['consumer_disputed'], axis =1)\n",
    "df_target = df_dummy_encoded['consumer_disputed']"
   ]
  },
  {
   "cell_type": "code",
   "execution_count": 38,
   "metadata": {
    "id": "fod4OSQmqH6j"
   },
   "outputs": [],
   "source": [
    "sm = SMOTE(sampling_strategy=0.95,random_state=0)\n",
    "X,df_target = sm.fit_resample(X, df_target)"
   ]
  },
  {
   "cell_type": "code",
   "execution_count": 39,
   "metadata": {
    "colab": {
     "base_uri": "https://localhost:8080/"
    },
    "id": "NnHcq1ZarfTJ",
    "outputId": "fab3cb8a-2a6a-49c9-e83f-57b7b2204e3d"
   },
   "outputs": [
    {
     "data": {
      "text/plain": [
       "0   0.512821\n",
       "1   0.487179\n",
       "Name: consumer_disputed, dtype: float64"
      ]
     },
     "execution_count": 39,
     "metadata": {},
     "output_type": "execute_result"
    }
   ],
   "source": [
    "df_target.value_counts(normalize = True)"
   ]
  },
  {
   "cell_type": "code",
   "execution_count": 43,
   "metadata": {
    "colab": {
     "base_uri": "https://localhost:8080/",
     "height": 206
    },
    "id": "SWTNaIyjs5_c",
    "outputId": "e4fcd59a-1565-424e-9812-36ffacf13e32"
   },
   "outputs": [
    {
     "data": {
      "text/html": [
       "\n",
       "  <div id=\"df-d82dd802-d477-4b4e-8441-7e1b610dbff4\">\n",
       "    <div class=\"colab-df-container\">\n",
       "      <div>\n",
       "<style scoped>\n",
       "    .dataframe tbody tr th:only-of-type {\n",
       "        vertical-align: middle;\n",
       "    }\n",
       "\n",
       "    .dataframe tbody tr th {\n",
       "        vertical-align: top;\n",
       "    }\n",
       "\n",
       "    .dataframe thead th {\n",
       "        text-align: right;\n",
       "    }\n",
       "</style>\n",
       "<table border=\"1\" class=\"dataframe\">\n",
       "  <thead>\n",
       "    <tr style=\"text-align: right;\">\n",
       "      <th></th>\n",
       "      <th>product</th>\n",
       "      <th>sub_product</th>\n",
       "      <th>issue</th>\n",
       "      <th>company</th>\n",
       "      <th>state</th>\n",
       "      <th>zipcode</th>\n",
       "      <th>submitted_via</th>\n",
       "      <th>company_response_to_consumer</th>\n",
       "      <th>timely_response</th>\n",
       "    </tr>\n",
       "  </thead>\n",
       "  <tbody>\n",
       "    <tr>\n",
       "      <th>0</th>\n",
       "      <td>0.232357</td>\n",
       "      <td>0.202929</td>\n",
       "      <td>0.225879</td>\n",
       "      <td>0.225676</td>\n",
       "      <td>0.222513</td>\n",
       "      <td>0.321429</td>\n",
       "      <td>0.178073</td>\n",
       "      <td>0.225551</td>\n",
       "      <td>0.212770</td>\n",
       "    </tr>\n",
       "    <tr>\n",
       "      <th>1</th>\n",
       "      <td>0.232357</td>\n",
       "      <td>0.202929</td>\n",
       "      <td>0.237749</td>\n",
       "      <td>0.230271</td>\n",
       "      <td>0.222513</td>\n",
       "      <td>0.266667</td>\n",
       "      <td>0.178073</td>\n",
       "      <td>0.225551</td>\n",
       "      <td>0.212770</td>\n",
       "    </tr>\n",
       "    <tr>\n",
       "      <th>2</th>\n",
       "      <td>0.195840</td>\n",
       "      <td>0.196220</td>\n",
       "      <td>0.201263</td>\n",
       "      <td>0.188415</td>\n",
       "      <td>0.220026</td>\n",
       "      <td>0.500000</td>\n",
       "      <td>0.227848</td>\n",
       "      <td>0.225551</td>\n",
       "      <td>0.212770</td>\n",
       "    </tr>\n",
       "    <tr>\n",
       "      <th>3</th>\n",
       "      <td>0.181489</td>\n",
       "      <td>0.188838</td>\n",
       "      <td>0.208728</td>\n",
       "      <td>0.185869</td>\n",
       "      <td>0.200109</td>\n",
       "      <td>0.222222</td>\n",
       "      <td>0.228190</td>\n",
       "      <td>0.225551</td>\n",
       "      <td>0.212770</td>\n",
       "    </tr>\n",
       "    <tr>\n",
       "      <th>4</th>\n",
       "      <td>0.196769</td>\n",
       "      <td>0.189255</td>\n",
       "      <td>0.194781</td>\n",
       "      <td>0.221969</td>\n",
       "      <td>0.220241</td>\n",
       "      <td>0.277778</td>\n",
       "      <td>0.178073</td>\n",
       "      <td>0.225551</td>\n",
       "      <td>0.212770</td>\n",
       "    </tr>\n",
       "  </tbody>\n",
       "</table>\n",
       "</div>\n",
       "      <button class=\"colab-df-convert\" onclick=\"convertToInteractive('df-d82dd802-d477-4b4e-8441-7e1b610dbff4')\"\n",
       "              title=\"Convert this dataframe to an interactive table.\"\n",
       "              style=\"display:none;\">\n",
       "        \n",
       "  <svg xmlns=\"http://www.w3.org/2000/svg\" height=\"24px\"viewBox=\"0 0 24 24\"\n",
       "       width=\"24px\">\n",
       "    <path d=\"M0 0h24v24H0V0z\" fill=\"none\"/>\n",
       "    <path d=\"M18.56 5.44l.94 2.06.94-2.06 2.06-.94-2.06-.94-.94-2.06-.94 2.06-2.06.94zm-11 1L8.5 8.5l.94-2.06 2.06-.94-2.06-.94L8.5 2.5l-.94 2.06-2.06.94zm10 10l.94 2.06.94-2.06 2.06-.94-2.06-.94-.94-2.06-.94 2.06-2.06.94z\"/><path d=\"M17.41 7.96l-1.37-1.37c-.4-.4-.92-.59-1.43-.59-.52 0-1.04.2-1.43.59L10.3 9.45l-7.72 7.72c-.78.78-.78 2.05 0 2.83L4 21.41c.39.39.9.59 1.41.59.51 0 1.02-.2 1.41-.59l7.78-7.78 2.81-2.81c.8-.78.8-2.07 0-2.86zM5.41 20L4 18.59l7.72-7.72 1.47 1.35L5.41 20z\"/>\n",
       "  </svg>\n",
       "      </button>\n",
       "      \n",
       "  <style>\n",
       "    .colab-df-container {\n",
       "      display:flex;\n",
       "      flex-wrap:wrap;\n",
       "      gap: 12px;\n",
       "    }\n",
       "\n",
       "    .colab-df-convert {\n",
       "      background-color: #E8F0FE;\n",
       "      border: none;\n",
       "      border-radius: 50%;\n",
       "      cursor: pointer;\n",
       "      display: none;\n",
       "      fill: #1967D2;\n",
       "      height: 32px;\n",
       "      padding: 0 0 0 0;\n",
       "      width: 32px;\n",
       "    }\n",
       "\n",
       "    .colab-df-convert:hover {\n",
       "      background-color: #E2EBFA;\n",
       "      box-shadow: 0px 1px 2px rgba(60, 64, 67, 0.3), 0px 1px 3px 1px rgba(60, 64, 67, 0.15);\n",
       "      fill: #174EA6;\n",
       "    }\n",
       "\n",
       "    [theme=dark] .colab-df-convert {\n",
       "      background-color: #3B4455;\n",
       "      fill: #D2E3FC;\n",
       "    }\n",
       "\n",
       "    [theme=dark] .colab-df-convert:hover {\n",
       "      background-color: #434B5C;\n",
       "      box-shadow: 0px 1px 3px 1px rgba(0, 0, 0, 0.15);\n",
       "      filter: drop-shadow(0px 1px 2px rgba(0, 0, 0, 0.3));\n",
       "      fill: #FFFFFF;\n",
       "    }\n",
       "  </style>\n",
       "\n",
       "      <script>\n",
       "        const buttonEl =\n",
       "          document.querySelector('#df-d82dd802-d477-4b4e-8441-7e1b610dbff4 button.colab-df-convert');\n",
       "        buttonEl.style.display =\n",
       "          google.colab.kernel.accessAllowed ? 'block' : 'none';\n",
       "\n",
       "        async function convertToInteractive(key) {\n",
       "          const element = document.querySelector('#df-d82dd802-d477-4b4e-8441-7e1b610dbff4');\n",
       "          const dataTable =\n",
       "            await google.colab.kernel.invokeFunction('convertToInteractive',\n",
       "                                                     [key], {});\n",
       "          if (!dataTable) return;\n",
       "\n",
       "          const docLinkHtml = 'Like what you see? Visit the ' +\n",
       "            '<a target=\"_blank\" href=https://colab.research.google.com/notebooks/data_table.ipynb>data table notebook</a>'\n",
       "            + ' to learn more about interactive tables.';\n",
       "          element.innerHTML = '';\n",
       "          dataTable['output_type'] = 'display_data';\n",
       "          await google.colab.output.renderOutput(dataTable, element);\n",
       "          const docLink = document.createElement('div');\n",
       "          docLink.innerHTML = docLinkHtml;\n",
       "          element.appendChild(docLink);\n",
       "        }\n",
       "      </script>\n",
       "    </div>\n",
       "  </div>\n",
       "  "
      ],
      "text/plain": [
       "   product  sub_product    issue  company    state  zipcode  submitted_via  \\\n",
       "0 0.232357     0.202929 0.225879 0.225676 0.222513 0.321429       0.178073   \n",
       "1 0.232357     0.202929 0.237749 0.230271 0.222513 0.266667       0.178073   \n",
       "2 0.195840     0.196220 0.201263 0.188415 0.220026 0.500000       0.227848   \n",
       "3 0.181489     0.188838 0.208728 0.185869 0.200109 0.222222       0.228190   \n",
       "4 0.196769     0.189255 0.194781 0.221969 0.220241 0.277778       0.178073   \n",
       "\n",
       "   company_response_to_consumer  timely_response  \n",
       "0                      0.225551         0.212770  \n",
       "1                      0.225551         0.212770  \n",
       "2                      0.225551         0.212770  \n",
       "3                      0.225551         0.212770  \n",
       "4                      0.225551         0.212770  "
      ]
     },
     "execution_count": 43,
     "metadata": {},
     "output_type": "execute_result"
    }
   ],
   "source": [
    "X.head()"
   ]
  },
  {
   "cell_type": "markdown",
   "metadata": {
    "id": "0T025-aiRioC"
   },
   "source": [
    "# Train Test Split"
   ]
  },
  {
   "cell_type": "code",
   "execution_count": 44,
   "metadata": {
    "colab": {
     "base_uri": "https://localhost:8080/"
    },
    "id": "izNQOL5mRioC",
    "outputId": "3704947d-b970-40ca-f3d6-78ea8bf09e77"
   },
   "outputs": [
    {
     "name": "stdout",
     "output_type": "stream",
     "text": [
      "X_train (424976, 10)\n",
      "y_train (424976,)\n",
      "X_test (182133, 10)\n",
      "y_test (182133,)\n"
     ]
    }
   ],
   "source": [
    "X = add_constant(X)\n",
    "\n",
    "X_train, X_test, y_train, y_test = train_test_split(X, df_target, random_state = 10, test_size = 0.3)\n",
    "\n",
    "print('X_train', X_train.shape)\n",
    "print('y_train', y_train.shape)\n",
    "\n",
    "print('X_test', X_test.shape)\n",
    "print('y_test', y_test.shape)"
   ]
  },
  {
   "cell_type": "markdown",
   "metadata": {
    "id": "EuDsHmS7RioE"
   },
   "source": [
    "# Logistic Regression"
   ]
  },
  {
   "cell_type": "code",
   "execution_count": 46,
   "metadata": {
    "colab": {
     "base_uri": "https://localhost:8080/"
    },
    "id": "xOH5L_zmRioE",
    "outputId": "cfe7a159-03f1-4930-aa9d-29c8c4bc73c0"
   },
   "outputs": [
    {
     "name": "stdout",
     "output_type": "stream",
     "text": [
      "Optimization terminated successfully.\n",
      "         Current function value: 0.611548\n",
      "         Iterations 6\n",
      "                           Logit Regression Results                           \n",
      "==============================================================================\n",
      "Dep. Variable:      consumer_disputed   No. Observations:               424976\n",
      "Model:                          Logit   Df Residuals:                   424966\n",
      "Method:                           MLE   Df Model:                            9\n",
      "Date:                Sat, 29 Jan 2022   Pseudo R-squ.:                  0.1173\n",
      "Time:                        06:28:12   Log-Likelihood:            -2.5989e+05\n",
      "converged:                       True   LL-Null:                   -2.9443e+05\n",
      "Covariance Type:            nonrobust   LLR p-value:                     0.000\n",
      "================================================================================================\n",
      "                                   coef    std err          z      P>|z|      [0.025      0.975]\n",
      "------------------------------------------------------------------------------------------------\n",
      "const                           -6.5445      0.092    -71.139      0.000      -6.725      -6.364\n",
      "product                         -3.2470      0.250    -12.968      0.000      -3.738      -2.756\n",
      "sub_product                      1.0748      0.157      6.838      0.000       0.767       1.383\n",
      "issue                            4.3955      0.143     30.810      0.000       4.116       4.675\n",
      "company                          6.0402      0.072     83.655      0.000       5.899       6.182\n",
      "state                           -1.3923      0.295     -4.722      0.000      -1.970      -0.814\n",
      "zipcode                          6.5930      0.037    176.175      0.000       6.520       6.666\n",
      "submitted_via                    5.5026      0.145     37.868      0.000       5.218       5.787\n",
      "company_response_to_consumer     6.8387      0.093     73.379      0.000       6.656       7.021\n",
      "timely_response                  4.2804      0.238     17.984      0.000       3.814       4.747\n",
      "================================================================================================\n"
     ]
    }
   ],
   "source": [
    "logreg = Logit(y_train, X_train).fit()\n",
    "\n",
    "print(logreg.summary())"
   ]
  },
  {
   "cell_type": "code",
   "execution_count": 47,
   "metadata": {
    "colab": {
     "base_uri": "https://localhost:8080/"
    },
    "id": "RQYD4sWARioE",
    "outputId": "e08d7fcf-86b6-457f-b680-50ee30760212"
   },
   "outputs": [
    {
     "name": "stdout",
     "output_type": "stream",
     "text": [
      "AIC: 519806.71546713705\n"
     ]
    }
   ],
   "source": [
    "print('AIC:', logreg.aic)"
   ]
  },
  {
   "cell_type": "code",
   "execution_count": 48,
   "metadata": {
    "colab": {
     "base_uri": "https://localhost:8080/",
     "height": 363
    },
    "id": "PD7JdoUtRioF",
    "outputId": "3f3bb902-11a3-4ab7-b1f8-e19db3adf6fa"
   },
   "outputs": [
    {
     "data": {
      "text/html": [
       "\n",
       "  <div id=\"df-b513f37e-f1a4-4149-80ab-ab835da82cfc\">\n",
       "    <div class=\"colab-df-container\">\n",
       "      <div>\n",
       "<style scoped>\n",
       "    .dataframe tbody tr th:only-of-type {\n",
       "        vertical-align: middle;\n",
       "    }\n",
       "\n",
       "    .dataframe tbody tr th {\n",
       "        vertical-align: top;\n",
       "    }\n",
       "\n",
       "    .dataframe thead th {\n",
       "        text-align: right;\n",
       "    }\n",
       "</style>\n",
       "<table border=\"1\" class=\"dataframe\">\n",
       "  <thead>\n",
       "    <tr style=\"text-align: right;\">\n",
       "      <th></th>\n",
       "      <th>Odds</th>\n",
       "    </tr>\n",
       "  </thead>\n",
       "  <tbody>\n",
       "    <tr>\n",
       "      <th>const</th>\n",
       "      <td>0.001438</td>\n",
       "    </tr>\n",
       "    <tr>\n",
       "      <th>product</th>\n",
       "      <td>0.038890</td>\n",
       "    </tr>\n",
       "    <tr>\n",
       "      <th>sub_product</th>\n",
       "      <td>2.929372</td>\n",
       "    </tr>\n",
       "    <tr>\n",
       "      <th>issue</th>\n",
       "      <td>81.083313</td>\n",
       "    </tr>\n",
       "    <tr>\n",
       "      <th>company</th>\n",
       "      <td>419.963195</td>\n",
       "    </tr>\n",
       "    <tr>\n",
       "      <th>state</th>\n",
       "      <td>0.248512</td>\n",
       "    </tr>\n",
       "    <tr>\n",
       "      <th>zipcode</th>\n",
       "      <td>729.947638</td>\n",
       "    </tr>\n",
       "    <tr>\n",
       "      <th>submitted_via</th>\n",
       "      <td>245.324682</td>\n",
       "    </tr>\n",
       "    <tr>\n",
       "      <th>company_response_to_consumer</th>\n",
       "      <td>933.302813</td>\n",
       "    </tr>\n",
       "    <tr>\n",
       "      <th>timely_response</th>\n",
       "      <td>72.270455</td>\n",
       "    </tr>\n",
       "  </tbody>\n",
       "</table>\n",
       "</div>\n",
       "      <button class=\"colab-df-convert\" onclick=\"convertToInteractive('df-b513f37e-f1a4-4149-80ab-ab835da82cfc')\"\n",
       "              title=\"Convert this dataframe to an interactive table.\"\n",
       "              style=\"display:none;\">\n",
       "        \n",
       "  <svg xmlns=\"http://www.w3.org/2000/svg\" height=\"24px\"viewBox=\"0 0 24 24\"\n",
       "       width=\"24px\">\n",
       "    <path d=\"M0 0h24v24H0V0z\" fill=\"none\"/>\n",
       "    <path d=\"M18.56 5.44l.94 2.06.94-2.06 2.06-.94-2.06-.94-.94-2.06-.94 2.06-2.06.94zm-11 1L8.5 8.5l.94-2.06 2.06-.94-2.06-.94L8.5 2.5l-.94 2.06-2.06.94zm10 10l.94 2.06.94-2.06 2.06-.94-2.06-.94-.94-2.06-.94 2.06-2.06.94z\"/><path d=\"M17.41 7.96l-1.37-1.37c-.4-.4-.92-.59-1.43-.59-.52 0-1.04.2-1.43.59L10.3 9.45l-7.72 7.72c-.78.78-.78 2.05 0 2.83L4 21.41c.39.39.9.59 1.41.59.51 0 1.02-.2 1.41-.59l7.78-7.78 2.81-2.81c.8-.78.8-2.07 0-2.86zM5.41 20L4 18.59l7.72-7.72 1.47 1.35L5.41 20z\"/>\n",
       "  </svg>\n",
       "      </button>\n",
       "      \n",
       "  <style>\n",
       "    .colab-df-container {\n",
       "      display:flex;\n",
       "      flex-wrap:wrap;\n",
       "      gap: 12px;\n",
       "    }\n",
       "\n",
       "    .colab-df-convert {\n",
       "      background-color: #E8F0FE;\n",
       "      border: none;\n",
       "      border-radius: 50%;\n",
       "      cursor: pointer;\n",
       "      display: none;\n",
       "      fill: #1967D2;\n",
       "      height: 32px;\n",
       "      padding: 0 0 0 0;\n",
       "      width: 32px;\n",
       "    }\n",
       "\n",
       "    .colab-df-convert:hover {\n",
       "      background-color: #E2EBFA;\n",
       "      box-shadow: 0px 1px 2px rgba(60, 64, 67, 0.3), 0px 1px 3px 1px rgba(60, 64, 67, 0.15);\n",
       "      fill: #174EA6;\n",
       "    }\n",
       "\n",
       "    [theme=dark] .colab-df-convert {\n",
       "      background-color: #3B4455;\n",
       "      fill: #D2E3FC;\n",
       "    }\n",
       "\n",
       "    [theme=dark] .colab-df-convert:hover {\n",
       "      background-color: #434B5C;\n",
       "      box-shadow: 0px 1px 3px 1px rgba(0, 0, 0, 0.15);\n",
       "      filter: drop-shadow(0px 1px 2px rgba(0, 0, 0, 0.3));\n",
       "      fill: #FFFFFF;\n",
       "    }\n",
       "  </style>\n",
       "\n",
       "      <script>\n",
       "        const buttonEl =\n",
       "          document.querySelector('#df-b513f37e-f1a4-4149-80ab-ab835da82cfc button.colab-df-convert');\n",
       "        buttonEl.style.display =\n",
       "          google.colab.kernel.accessAllowed ? 'block' : 'none';\n",
       "\n",
       "        async function convertToInteractive(key) {\n",
       "          const element = document.querySelector('#df-b513f37e-f1a4-4149-80ab-ab835da82cfc');\n",
       "          const dataTable =\n",
       "            await google.colab.kernel.invokeFunction('convertToInteractive',\n",
       "                                                     [key], {});\n",
       "          if (!dataTable) return;\n",
       "\n",
       "          const docLinkHtml = 'Like what you see? Visit the ' +\n",
       "            '<a target=\"_blank\" href=https://colab.research.google.com/notebooks/data_table.ipynb>data table notebook</a>'\n",
       "            + ' to learn more about interactive tables.';\n",
       "          element.innerHTML = '';\n",
       "          dataTable['output_type'] = 'display_data';\n",
       "          await google.colab.output.renderOutput(dataTable, element);\n",
       "          const docLink = document.createElement('div');\n",
       "          docLink.innerHTML = docLinkHtml;\n",
       "          element.appendChild(docLink);\n",
       "        }\n",
       "      </script>\n",
       "    </div>\n",
       "  </div>\n",
       "  "
      ],
      "text/plain": [
       "                                   Odds\n",
       "const                          0.001438\n",
       "product                        0.038890\n",
       "sub_product                    2.929372\n",
       "issue                         81.083313\n",
       "company                      419.963195\n",
       "state                          0.248512\n",
       "zipcode                      729.947638\n",
       "submitted_via                245.324682\n",
       "company_response_to_consumer 933.302813\n",
       "timely_response               72.270455"
      ]
     },
     "execution_count": 48,
     "metadata": {},
     "output_type": "execute_result"
    }
   ],
   "source": [
    "# Interpret the odds for each variable\n",
    "\n",
    "df_odds = pd.DataFrame(np.exp(logreg.params), columns= ['Odds']) \n",
    "\n",
    "df_odds"
   ]
  },
  {
   "cell_type": "code",
   "execution_count": 50,
   "metadata": {
    "colab": {
     "base_uri": "https://localhost:8080/"
    },
    "id": "U4C3DCJ9RioF",
    "outputId": "c8a8599a-b575-4414-dd02-fecd8e7a1fa5"
   },
   "outputs": [
    {
     "data": {
      "text/plain": [
       "42952    0.279657\n",
       "481230   0.567492\n",
       "439733   0.479150\n",
       "523071   0.718283\n",
       "560417   0.560652\n",
       "dtype: float64"
      ]
     },
     "execution_count": 50,
     "metadata": {},
     "output_type": "execute_result"
    }
   ],
   "source": [
    "# predictions on the test set.\n",
    "\n",
    "y_pred_prob = logreg.predict(X_test)\n",
    "\n",
    "y_pred_prob.head()"
   ]
  },
  {
   "cell_type": "code",
   "execution_count": 51,
   "metadata": {
    "colab": {
     "base_uri": "https://localhost:8080/"
    },
    "id": "SM_0nEZBRioF",
    "outputId": "7abb06f6-20ab-4785-f930-0c598d93bfa4"
   },
   "outputs": [
    {
     "data": {
      "text/plain": [
       "[0, 1, 0, 1, 1]"
      ]
     },
     "execution_count": 51,
     "metadata": {},
     "output_type": "execute_result"
    }
   ],
   "source": [
    "# convert probabilities to 0 and 1 using 'if_else'\n",
    "y_pred = [ 0 if x < 0.5 else 1 for x in y_pred_prob]\n",
    "y_pred[0:5]"
   ]
  },
  {
   "cell_type": "code",
   "execution_count": 52,
   "metadata": {
    "colab": {
     "base_uri": "https://localhost:8080/",
     "height": 274
    },
    "id": "8W-fpNEERioG",
    "outputId": "bfa3940c-3106-411d-8a0b-3f5872746e59"
   },
   "outputs": [
    {
     "data": {
      "image/png": "[encoded data removed]",
      "text/plain": [
       "<Figure size 432x288 with 1 Axes>"
      ]
     },
     "metadata": {
      "needs_background": "light"
     },
     "output_type": "display_data"
    }
   ],
   "source": [
    "# create a confusion matrix\n",
    "\n",
    "cm = confusion_matrix(y_test, y_pred)\n",
    "\n",
    "conf_matrix = pd.DataFrame(data = cm,columns = ['Predicted:0','Predicted:1'], index = ['Actual:0','Actual:1'])\n",
    "\n",
    "\n",
    "sns.heatmap(conf_matrix, annot = True, fmt = 'd', cmap = ListedColormap(['lightskyblue']), cbar = False, \n",
    "            linewidths = 0.1, annot_kws = {'size':25})\n",
    "\n",
    "plt.xticks(fontsize = 20)\n",
    "plt.yticks(fontsize = 20)\n",
    "plt.show()"
   ]
  },
  {
   "cell_type": "code",
   "execution_count": 53,
   "metadata": {
    "id": "_cV8BnO2RioG"
   },
   "outputs": [],
   "source": [
    "TN = cm[0,0]\n",
    "TP = cm[1,1]\n",
    "FP = cm[0,1]\n",
    "FN = cm[1,0]"
   ]
  },
  {
   "cell_type": "code",
   "execution_count": 54,
   "metadata": {
    "colab": {
     "base_uri": "https://localhost:8080/"
    },
    "id": "E-nTzijKRioG",
    "outputId": "502dda12-7c7c-480d-98de-9fa9c8e8e8f7"
   },
   "outputs": [
    {
     "name": "stdout",
     "output_type": "stream",
     "text": [
      "              precision    recall  f1-score   support\n",
      "\n",
      "           0       0.65      0.68      0.67     93393\n",
      "           1       0.65      0.62      0.63     88740\n",
      "\n",
      "    accuracy                           0.65    182133\n",
      "   macro avg       0.65      0.65      0.65    182133\n",
      "weighted avg       0.65      0.65      0.65    182133\n",
      "\n"
     ]
    }
   ],
   "source": [
    "# performance metrics.\n",
    "\n",
    "acc_table = classification_report(y_test, y_pred)\n",
    "\n",
    "print(acc_table)"
   ]
  },
  {
   "cell_type": "code",
   "execution_count": 55,
   "metadata": {
    "colab": {
     "base_uri": "https://localhost:8080/"
    },
    "id": "2GJCXL8KRioH",
    "outputId": "c51a5dcc-13a9-4c7c-e858-4d4e1adbd18a"
   },
   "outputs": [
    {
     "name": "stdout",
     "output_type": "stream",
     "text": [
      "kappa value: 0.3001141370044159\n"
     ]
    }
   ],
   "source": [
    "# kappa score\n",
    "kappa = cohen_kappa_score(y_test, y_pred)\n",
    "\n",
    "print('kappa value:',kappa)"
   ]
  },
  {
   "cell_type": "markdown",
   "metadata": {
    "id": "2yKh-n2RRioH"
   },
   "source": [
    " As the kappa score for the full model (with cut-off probability 0.5) is 0.30, we can say that there is Fair agreement between the actual and predicted values."
   ]
  },
  {
   "cell_type": "code",
   "execution_count": 56,
   "metadata": {
    "colab": {
     "base_uri": "https://localhost:8080/",
     "height": 302
    },
    "id": "IeKS19asRioH",
    "outputId": "7665654b-b834-4b0c-e26d-d76c175b5ed7"
   },
   "outputs": [
    {
     "data": {
      "image/png": "[encoded data removed]",
      "text/plain": [
       "<Figure size 432x288 with 1 Axes>"
      ]
     },
     "metadata": {
      "needs_background": "light"
     },
     "output_type": "display_data"
    }
   ],
   "source": [
    "fpr, tpr, thresholds = roc_curve(y_test, y_pred_prob)\n",
    "\n",
    "plt.plot(fpr, tpr)\n",
    "plt.xlim([0.0, 1.0])\n",
    "plt.ylim([0.0, 1.0])\n",
    "\n",
    "plt.plot([0, 1], [0, 1],'r--')\n",
    "\n",
    "plt.title('ROC curve for Consumer Disputed Classifier', fontsize = 15)\n",
    "plt.xlabel('False positive rate (1-Specificity)', fontsize = 15)\n",
    "plt.ylabel('True positive rate (Sensitivity)', fontsize = 15)\n",
    "\n",
    "plt.text(x = 0.02, y = 0.9, s = ('AUC Score:', round(metrics.roc_auc_score(y_test, y_pred_prob),4)))\n",
    "                \n",
    "plt.grid(True)"
   ]
  },
  {
   "cell_type": "markdown",
   "metadata": {
    "id": "KaZProuARioH"
   },
   "source": [
    "From the above plot, we can see that our classifier (logistic regression) is slightly away from the dotted line; with the AUC score 0.717."
   ]
  },
  {
   "cell_type": "code",
   "execution_count": 57,
   "metadata": {
    "colab": {
     "base_uri": "https://localhost:8080/",
     "height": 206
    },
    "id": "gW9zSY51RioI",
    "outputId": "7ed7d534-20ec-4b80-d4dd-af9db7b4cce2"
   },
   "outputs": [
    {
     "data": {
      "text/html": [
       "\n",
       "  <div id=\"df-37a65cc7-b3d4-4fa5-9101-a6bfb11527de\">\n",
       "    <div class=\"colab-df-container\">\n",
       "      <div>\n",
       "<style scoped>\n",
       "    .dataframe tbody tr th:only-of-type {\n",
       "        vertical-align: middle;\n",
       "    }\n",
       "\n",
       "    .dataframe tbody tr th {\n",
       "        vertical-align: top;\n",
       "    }\n",
       "\n",
       "    .dataframe thead th {\n",
       "        text-align: right;\n",
       "    }\n",
       "</style>\n",
       "<table border=\"1\" class=\"dataframe\">\n",
       "  <thead>\n",
       "    <tr style=\"text-align: right;\">\n",
       "      <th></th>\n",
       "      <th>TPR</th>\n",
       "      <th>FPR</th>\n",
       "      <th>Threshold</th>\n",
       "      <th>Difference</th>\n",
       "    </tr>\n",
       "  </thead>\n",
       "  <tbody>\n",
       "    <tr>\n",
       "      <th>0</th>\n",
       "      <td>0.703775</td>\n",
       "      <td>0.397888</td>\n",
       "      <td>0.461709</td>\n",
       "      <td>0.305887</td>\n",
       "    </tr>\n",
       "    <tr>\n",
       "      <th>1</th>\n",
       "      <td>0.703595</td>\n",
       "      <td>0.397717</td>\n",
       "      <td>0.461795</td>\n",
       "      <td>0.305878</td>\n",
       "    </tr>\n",
       "    <tr>\n",
       "      <th>2</th>\n",
       "      <td>0.703809</td>\n",
       "      <td>0.397931</td>\n",
       "      <td>0.461697</td>\n",
       "      <td>0.305878</td>\n",
       "    </tr>\n",
       "    <tr>\n",
       "      <th>3</th>\n",
       "      <td>0.703696</td>\n",
       "      <td>0.397824</td>\n",
       "      <td>0.461754</td>\n",
       "      <td>0.305872</td>\n",
       "    </tr>\n",
       "    <tr>\n",
       "      <th>4</th>\n",
       "      <td>0.703651</td>\n",
       "      <td>0.397781</td>\n",
       "      <td>0.461775</td>\n",
       "      <td>0.305870</td>\n",
       "    </tr>\n",
       "  </tbody>\n",
       "</table>\n",
       "</div>\n",
       "      <button class=\"colab-df-convert\" onclick=\"convertToInteractive('df-37a65cc7-b3d4-4fa5-9101-a6bfb11527de')\"\n",
       "              title=\"Convert this dataframe to an interactive table.\"\n",
       "              style=\"display:none;\">\n",
       "        \n",
       "  <svg xmlns=\"http://www.w3.org/2000/svg\" height=\"24px\"viewBox=\"0 0 24 24\"\n",
       "       width=\"24px\">\n",
       "    <path d=\"M0 0h24v24H0V0z\" fill=\"none\"/>\n",
       "    <path d=\"M18.56 5.44l.94 2.06.94-2.06 2.06-.94-2.06-.94-.94-2.06-.94 2.06-2.06.94zm-11 1L8.5 8.5l.94-2.06 2.06-.94-2.06-.94L8.5 2.5l-.94 2.06-2.06.94zm10 10l.94 2.06.94-2.06 2.06-.94-2.06-.94-.94-2.06-.94 2.06-2.06.94z\"/><path d=\"M17.41 7.96l-1.37-1.37c-.4-.4-.92-.59-1.43-.59-.52 0-1.04.2-1.43.59L10.3 9.45l-7.72 7.72c-.78.78-.78 2.05 0 2.83L4 21.41c.39.39.9.59 1.41.59.51 0 1.02-.2 1.41-.59l7.78-7.78 2.81-2.81c.8-.78.8-2.07 0-2.86zM5.41 20L4 18.59l7.72-7.72 1.47 1.35L5.41 20z\"/>\n",
       "  </svg>\n",
       "      </button>\n",
       "      \n",
       "  <style>\n",
       "    .colab-df-container {\n",
       "      display:flex;\n",
       "      flex-wrap:wrap;\n",
       "      gap: 12px;\n",
       "    }\n",
       "\n",
       "    .colab-df-convert {\n",
       "      background-color: #E8F0FE;\n",
       "      border: none;\n",
       "      border-radius: 50%;\n",
       "      cursor: pointer;\n",
       "      display: none;\n",
       "      fill: #1967D2;\n",
       "      height: 32px;\n",
       "      padding: 0 0 0 0;\n",
       "      width: 32px;\n",
       "    }\n",
       "\n",
       "    .colab-df-convert:hover {\n",
       "      background-color: #E2EBFA;\n",
       "      box-shadow: 0px 1px 2px rgba(60, 64, 67, 0.3), 0px 1px 3px 1px rgba(60, 64, 67, 0.15);\n",
       "      fill: #174EA6;\n",
       "    }\n",
       "\n",
       "    [theme=dark] .colab-df-convert {\n",
       "      background-color: #3B4455;\n",
       "      fill: #D2E3FC;\n",
       "    }\n",
       "\n",
       "    [theme=dark] .colab-df-convert:hover {\n",
       "      background-color: #434B5C;\n",
       "      box-shadow: 0px 1px 3px 1px rgba(0, 0, 0, 0.15);\n",
       "      filter: drop-shadow(0px 1px 2px rgba(0, 0, 0, 0.3));\n",
       "      fill: #FFFFFF;\n",
       "    }\n",
       "  </style>\n",
       "\n",
       "      <script>\n",
       "        const buttonEl =\n",
       "          document.querySelector('#df-37a65cc7-b3d4-4fa5-9101-a6bfb11527de button.colab-df-convert');\n",
       "        buttonEl.style.display =\n",
       "          google.colab.kernel.accessAllowed ? 'block' : 'none';\n",
       "\n",
       "        async function convertToInteractive(key) {\n",
       "          const element = document.querySelector('#df-37a65cc7-b3d4-4fa5-9101-a6bfb11527de');\n",
       "          const dataTable =\n",
       "            await google.colab.kernel.invokeFunction('convertToInteractive',\n",
       "                                                     [key], {});\n",
       "          if (!dataTable) return;\n",
       "\n",
       "          const docLinkHtml = 'Like what you see? Visit the ' +\n",
       "            '<a target=\"_blank\" href=https://colab.research.google.com/notebooks/data_table.ipynb>data table notebook</a>'\n",
       "            + ' to learn more about interactive tables.';\n",
       "          element.innerHTML = '';\n",
       "          dataTable['output_type'] = 'display_data';\n",
       "          await google.colab.output.renderOutput(dataTable, element);\n",
       "          const docLink = document.createElement('div');\n",
       "          docLink.innerHTML = docLinkHtml;\n",
       "          element.appendChild(docLink);\n",
       "        }\n",
       "      </script>\n",
       "    </div>\n",
       "  </div>\n",
       "  "
      ],
      "text/plain": [
       "       TPR      FPR  Threshold  Difference\n",
       "0 0.703775 0.397888   0.461709    0.305887\n",
       "1 0.703595 0.397717   0.461795    0.305878\n",
       "2 0.703809 0.397931   0.461697    0.305878\n",
       "3 0.703696 0.397824   0.461754    0.305872\n",
       "4 0.703651 0.397781   0.461775    0.305870"
      ]
     },
     "execution_count": 57,
     "metadata": {},
     "output_type": "execute_result"
    }
   ],
   "source": [
    "# Identify the Best Cut-off Value using Youden's Index\n",
    "\n",
    "youdens_table = pd.DataFrame({'TPR': tpr,\n",
    "                             'FPR': fpr,\n",
    "                             'Threshold': thresholds})\n",
    "\n",
    "youdens_table['Difference'] = youdens_table.TPR - youdens_table.FPR\n",
    "\n",
    "youdens_table = youdens_table.sort_values('Difference', ascending = False).reset_index(drop = True)\n",
    "\n",
    "youdens_table.head()"
   ]
  },
  {
   "cell_type": "markdown",
   "metadata": {
    "id": "L0PJEMjtRioI"
   },
   "source": [
    "As we can see that the optimal cut-off probability is approximately 0.46. Let us consider this cut-off to predict the target values. i.e. if 'y_pred_prob' is less than 0.46, then consider it to be 0 else consider it to be 1."
   ]
  },
  {
   "cell_type": "code",
   "execution_count": 66,
   "metadata": {
    "id": "Z_A7kSCQRioI"
   },
   "outputs": [],
   "source": [
    "y_pred_youden = [ 0 if x < 0.46 else 1 for x in y_pred_prob]"
   ]
  },
  {
   "cell_type": "code",
   "execution_count": 67,
   "metadata": {
    "colab": {
     "base_uri": "https://localhost:8080/",
     "height": 274
    },
    "id": "iP0J0LvERioI",
    "outputId": "a413700b-8a2c-40e1-bf30-49d00c28c47c"
   },
   "outputs": [
    {
     "data": {
      "image/png": "[encoded data removed]",
      "text/plain": [
       "<Figure size 432x288 with 1 Axes>"
      ]
     },
     "metadata": {
      "needs_background": "light"
     },
     "output_type": "display_data"
    }
   ],
   "source": [
    "cm = confusion_matrix(y_test, y_pred_youden)\n",
    "\n",
    "conf_matrix = pd.DataFrame(data = cm,columns = ['Predicted:0','Predicted:1'], index = ['Actual:0','Actual:1'])\n",
    "\n",
    "sns.heatmap(conf_matrix, annot = True, fmt = 'd', cmap = ListedColormap(['lightskyblue']), cbar = False, \n",
    "            linewidths = 0.1, annot_kws = {'size':25})\n",
    "\n",
    "plt.xticks(fontsize = 20)\n",
    "plt.yticks(fontsize = 20)\n",
    "plt.show()"
   ]
  },
  {
   "cell_type": "code",
   "execution_count": 68,
   "metadata": {
    "colab": {
     "base_uri": "https://localhost:8080/"
    },
    "id": "Mwp3Qw3-RioJ",
    "outputId": "098d4cc6-9ad7-4dba-c231-8a082e12143b"
   },
   "outputs": [
    {
     "name": "stdout",
     "output_type": "stream",
     "text": [
      "              precision    recall  f1-score   support\n",
      "\n",
      "           0       0.68      0.60      0.64     93393\n",
      "           1       0.63      0.71      0.66     88740\n",
      "\n",
      "    accuracy                           0.65    182133\n",
      "   macro avg       0.65      0.65      0.65    182133\n",
      "weighted avg       0.65      0.65      0.65    182133\n",
      "\n"
     ]
    }
   ],
   "source": [
    "acc_table = classification_report(y_test, y_pred_youden)\n",
    "\n",
    "print(acc_table)"
   ]
  },
  {
   "cell_type": "code",
   "execution_count": 69,
   "metadata": {
    "colab": {
     "base_uri": "https://localhost:8080/"
    },
    "id": "8DhgdjRiRioJ",
    "outputId": "728bdf68-6ecc-4ee5-eb51-61add8da9eb3"
   },
   "outputs": [
    {
     "name": "stdout",
     "output_type": "stream",
     "text": [
      "kappa value: 0.3040483547765992\n"
     ]
    }
   ],
   "source": [
    "# compared to previous score card the specificity and sensitivity here are little comparable \n",
    "\n",
    "kappa = cohen_kappa_score(y_test, y_pred_youden)\n",
    "print('kappa value:',kappa)"
   ]
  },
  {
   "cell_type": "markdown",
   "metadata": {
    "id": "duLy8qfdRioJ"
   },
   "source": [
    "# Recursive Feature Elimination (RFE)"
   ]
  },
  {
   "cell_type": "code",
   "execution_count": 70,
   "metadata": {
    "colab": {
     "base_uri": "https://localhost:8080/"
    },
    "id": "J84L86FnRioJ",
    "outputId": "62939af8-ea8d-4655-b63d-0f635ec3273a"
   },
   "outputs": [
    {
     "name": "stdout",
     "output_type": "stream",
     "text": [
      "Index(['company', 'zipcode', 'submitted_via', 'company_response_to_consumer',\n",
      "       'timely_response'],\n",
      "      dtype='object')\n"
     ]
    }
   ],
   "source": [
    "X_train_rfe = X_train.iloc[:,1:]\n",
    "X_test_rfe = X_test.iloc[:,1:]\n",
    "\n",
    "logreg = LogisticRegression()\n",
    "\n",
    "rfe_model = RFE(estimator = logreg, n_features_to_select = 5)\n",
    "\n",
    "rfe_model = rfe_model.fit(X_train_rfe, y_train)\n",
    "\n",
    "feat_index = pd.Series(data = rfe_model.ranking_, index = X_train_rfe.columns)\n",
    "\n",
    "signi_feat_rfe = feat_index[feat_index==1].index\n",
    "\n",
    "print(signi_feat_rfe)"
   ]
  },
  {
   "cell_type": "code",
   "execution_count": 71,
   "metadata": {
    "colab": {
     "base_uri": "https://localhost:8080/"
    },
    "id": "ZtWw2sFGRioK",
    "outputId": "c45127d3-9adc-4b28-9c9e-666b4e449425"
   },
   "outputs": [
    {
     "name": "stdout",
     "output_type": "stream",
     "text": [
      "Optimization terminated successfully.\n",
      "         Current function value: 0.627271\n",
      "         Iterations 6\n",
      "                           Logit Regression Results                           \n",
      "==============================================================================\n",
      "Dep. Variable:      consumer_disputed   No. Observations:               424976\n",
      "Model:                          Logit   Df Residuals:                   424971\n",
      "Method:                           MLE   Df Model:                            4\n",
      "Date:                Sat, 29 Jan 2022   Pseudo R-squ.:                 0.09461\n",
      "Time:                        06:33:25   Log-Likelihood:            -2.6658e+05\n",
      "converged:                       True   LL-Null:                   -2.9443e+05\n",
      "Covariance Type:            nonrobust   LLR p-value:                     0.000\n",
      "================================================================================================\n",
      "                                   coef    std err          z      P>|z|      [0.025      0.975]\n",
      "------------------------------------------------------------------------------------------------\n",
      "company                          5.2604      0.066     79.715      0.000       5.131       5.390\n",
      "zipcode                          6.1767      0.036    171.846      0.000       6.106       6.247\n",
      "submitted_via                   -1.5467      0.117    -13.274      0.000      -1.775      -1.318\n",
      "company_response_to_consumer     4.6867      0.085     55.240      0.000       4.520       4.853\n",
      "timely_response                -15.3654      0.149   -103.214      0.000     -15.657     -15.074\n",
      "================================================================================================\n"
     ]
    }
   ],
   "source": [
    "# Build the logisitc regression model using the variables obtained from RFE.\n",
    "\n",
    "logreg_rfe = Logit(y_train, X_train[['company', 'zipcode', 'submitted_via', 'company_response_to_consumer',\n",
    "                                        'timely_response']]).fit()\n",
    "\n",
    "print(logreg_rfe.summary())"
   ]
  },
  {
   "cell_type": "code",
   "execution_count": 72,
   "metadata": {
    "colab": {
     "base_uri": "https://localhost:8080/"
    },
    "id": "t1DzMWCwRioK",
    "outputId": "3cfb8c4f-57be-4379-85f9-35aefaed3d47"
   },
   "outputs": [
    {
     "data": {
      "text/plain": [
       "42952    0.343174\n",
       "481230   0.626915\n",
       "439733   0.436523\n",
       "523071   0.742123\n",
       "560417   0.565110\n",
       "dtype: float64"
      ]
     },
     "execution_count": 72,
     "metadata": {},
     "output_type": "execute_result"
    }
   ],
   "source": [
    "y_pred_prob_rfe = logreg_rfe.predict(X_test[['company', 'zipcode', 'submitted_via', 'company_response_to_consumer',\n",
    "                                        'timely_response']])\n",
    "\n",
    "y_pred_prob_rfe.head()"
   ]
  },
  {
   "cell_type": "code",
   "execution_count": 73,
   "metadata": {
    "id": "1d1f3r_JRioK"
   },
   "outputs": [],
   "source": [
    "y_pred_rfe = [ 0 if x < 0.46 else 1 for x in y_pred_prob_rfe]"
   ]
  },
  {
   "cell_type": "code",
   "execution_count": 74,
   "metadata": {
    "colab": {
     "base_uri": "https://localhost:8080/",
     "height": 274
    },
    "id": "VUUQnMS6RioK",
    "outputId": "dfdcb7fb-5011-49ef-b412-8cbbf1b2e937"
   },
   "outputs": [
    {
     "data": {
      "image/png": "[encoded data removed]",
      "text/plain": [
       "<Figure size 432x288 with 1 Axes>"
      ]
     },
     "metadata": {
      "needs_background": "light"
     },
     "output_type": "display_data"
    }
   ],
   "source": [
    "cm = confusion_matrix(y_test, y_pred_rfe)\n",
    "\n",
    "conf_matrix = pd.DataFrame(data = cm,columns = ['Predicted:0','Predicted:1'], index = ['Actual:0','Actual:1'])\n",
    "\n",
    "sns.heatmap(conf_matrix, annot = True, fmt = 'd', cmap = ListedColormap(['lightskyblue']), cbar = False, \n",
    "            linewidths = 0.1, annot_kws = {'size':25})\n",
    "\n",
    "plt.xticks(fontsize = 20)\n",
    "plt.yticks(fontsize = 20)\n",
    "plt.show()"
   ]
  },
  {
   "cell_type": "code",
   "execution_count": 75,
   "metadata": {
    "colab": {
     "base_uri": "https://localhost:8080/"
    },
    "id": "-bSpr2KhRioL",
    "outputId": "2111eb49-6727-4f5d-df4c-f00715c4ef4d"
   },
   "outputs": [
    {
     "name": "stdout",
     "output_type": "stream",
     "text": [
      "              precision    recall  f1-score   support\n",
      "\n",
      "           0       0.67      0.58      0.62     93393\n",
      "           1       0.61      0.69      0.65     88740\n",
      "\n",
      "    accuracy                           0.64    182133\n",
      "   macro avg       0.64      0.64      0.64    182133\n",
      "weighted avg       0.64      0.64      0.64    182133\n",
      "\n"
     ]
    }
   ],
   "source": [
    "result = classification_report(y_test, y_pred_rfe)\n",
    "\n",
    "print(result)"
   ]
  },
  {
   "cell_type": "code",
   "execution_count": 76,
   "metadata": {
    "colab": {
     "base_uri": "https://localhost:8080/"
    },
    "id": "ZGOoBq9RRioL",
    "outputId": "954c0171-4a9b-4310-d678-4a2d8eef15aa"
   },
   "outputs": [
    {
     "name": "stdout",
     "output_type": "stream",
     "text": [
      "kappa value: 0.2743859595274286\n"
     ]
    }
   ],
   "source": [
    "kappa = cohen_kappa_score(y_test, y_pred_rfe)\n",
    "\n",
    "print('kappa value:',kappa)"
   ]
  },
  {
   "cell_type": "code",
   "execution_count": 77,
   "metadata": {
    "colab": {
     "base_uri": "https://localhost:8080/",
     "height": 302
    },
    "id": "XjBWjPmxRioL",
    "outputId": "672bac4c-6b90-416d-988a-45a84336344f"
   },
   "outputs": [
    {
     "data": {
      "image/png": "[encoded data removed]",
      "text/plain": [
       "<Figure size 432x288 with 1 Axes>"
      ]
     },
     "metadata": {
      "needs_background": "light"
     },
     "output_type": "display_data"
    }
   ],
   "source": [
    "fpr, tpr, thresholds = roc_curve(y_test, y_pred_prob_rfe)\n",
    "\n",
    "plt.plot(fpr, tpr)\n",
    "\n",
    "plt.xlim([0.0, 1.0])\n",
    "plt.ylim([0.0, 1.0])\n",
    "\n",
    "plt.plot([0, 1], [0, 1],'r--')\n",
    "\n",
    "plt.title('ROC curve for Admission Prediction Classifier (RFE Model)', fontsize = 15)\n",
    "plt.xlabel('False positive rate (1-Specificity)', fontsize = 15)\n",
    "plt.ylabel('True positive rate (Sensitivity)', fontsize = 15)\n",
    "\n",
    "plt.text(x = 0.02, y = 0.9, s = ('AUC Score:', round(metrics.roc_auc_score(y_test, y_pred_prob_rfe),4)))\n",
    "plt.grid(True)"
   ]
  },
  {
   "cell_type": "markdown",
   "metadata": {
    "id": "_aFHdMWoRioM"
   },
   "source": [
    "# Decision Tree"
   ]
  },
  {
   "cell_type": "code",
   "execution_count": 78,
   "metadata": {
    "id": "LRv91q-8RioM"
   },
   "outputs": [],
   "source": [
    "# Generelized functions to get performance metrics on train and test data\n",
    "\n",
    "def get_train_report(model):\n",
    "     \n",
    "    train_pred = model.predict(X_train)\n",
    "    \n",
    "    return(classification_report(y_train, train_pred))\n",
    "\n",
    "def get_test_report(model):\n",
    "\n",
    "    test_pred = model.predict(X_test)\n",
    "    \n",
    "    return(classification_report(y_test, test_pred))"
   ]
  },
  {
   "cell_type": "code",
   "execution_count": 79,
   "metadata": {
    "id": "CaEokVYARioM"
   },
   "outputs": [],
   "source": [
    "decision_tree_classification = DecisionTreeClassifier(criterion = 'entropy', random_state = 10)\n",
    "\n",
    "decision_tree = decision_tree_classification.fit(X_train, y_train)"
   ]
  },
  {
   "cell_type": "code",
   "execution_count": 80,
   "metadata": {
    "colab": {
     "base_uri": "https://localhost:8080/"
    },
    "id": "AezflRu8RioM",
    "outputId": "e6e90e36-9576-4216-ed3e-3b2c48b6a3a9"
   },
   "outputs": [
    {
     "name": "stdout",
     "output_type": "stream",
     "text": [
      "              precision    recall  f1-score   support\n",
      "\n",
      "           0       0.98      0.99      0.99    217945\n",
      "           1       0.99      0.98      0.98    207031\n",
      "\n",
      "    accuracy                           0.99    424976\n",
      "   macro avg       0.99      0.99      0.99    424976\n",
      "weighted avg       0.99      0.99      0.99    424976\n",
      "\n"
     ]
    }
   ],
   "source": [
    "train_report = get_train_report(decision_tree)\n",
    "\n",
    "print(train_report)"
   ]
  },
  {
   "cell_type": "code",
   "execution_count": 81,
   "metadata": {
    "colab": {
     "base_uri": "https://localhost:8080/"
    },
    "id": "Q-cvySUrRioN",
    "outputId": "806f4ddf-ef27-4ec3-c7bf-e88839fb3ca2"
   },
   "outputs": [
    {
     "name": "stdout",
     "output_type": "stream",
     "text": [
      "              precision    recall  f1-score   support\n",
      "\n",
      "           0       0.80      0.80      0.80     93393\n",
      "           1       0.79      0.78      0.78     88740\n",
      "\n",
      "    accuracy                           0.79    182133\n",
      "   macro avg       0.79      0.79      0.79    182133\n",
      "weighted avg       0.79      0.79      0.79    182133\n",
      "\n"
     ]
    }
   ],
   "source": [
    "test_report = get_test_report(decision_tree)\n",
    "\n",
    "print(test_report)"
   ]
  },
  {
   "cell_type": "markdown",
   "metadata": {
    "id": "d_iNRNVURioN"
   },
   "source": [
    "From the above output, we can see that there is a difference between the train and test accuracy; thus, we can conclude that the decision tree is over-fitted on the train data.\n",
    "\n",
    "If we tune the hyperparameters in the decision tree, it helps to avoid the over-fitting of the tree."
   ]
  },
  {
   "cell_type": "code",
   "execution_count": 82,
   "metadata": {
    "colab": {
     "base_uri": "https://localhost:8080/"
    },
    "id": "-gqe9-DsRioN",
    "outputId": "b0943eaf-bcdb-4220-ad1c-10ff912a59b5"
   },
   "outputs": [
    {
     "name": "stdout",
     "output_type": "stream",
     "text": [
      "Train data:\n",
      "               precision    recall  f1-score   support\n",
      "\n",
      "           0       0.65      0.66      0.66    217945\n",
      "           1       0.64      0.63      0.63    207031\n",
      "\n",
      "    accuracy                           0.65    424976\n",
      "   macro avg       0.64      0.64      0.64    424976\n",
      "weighted avg       0.65      0.65      0.65    424976\n",
      "\n",
      "Test data:\n",
      "               precision    recall  f1-score   support\n",
      "\n",
      "           0       0.65      0.66      0.66     93393\n",
      "           1       0.64      0.63      0.63     88740\n",
      "\n",
      "    accuracy                           0.64    182133\n",
      "   macro avg       0.64      0.64      0.64    182133\n",
      "weighted avg       0.64      0.64      0.64    182133\n",
      "\n"
     ]
    }
   ],
   "source": [
    "dt_model = DecisionTreeClassifier(criterion = 'gini',\n",
    "                                  max_depth = 5,\n",
    "                                  min_samples_split = 4,\n",
    "                                  max_leaf_nodes = 6,\n",
    "                                  random_state = 10)\n",
    "\n",
    "decision_tree = dt_model.fit(X_train, y_train)\n",
    "\n",
    "train_report = get_train_report(decision_tree)\n",
    "\n",
    "print('Train data:\\n', train_report)\n",
    "\n",
    "test_report = get_test_report(decision_tree)\n",
    "\n",
    "print('Test data:\\n', test_report)"
   ]
  },
  {
   "cell_type": "markdown",
   "metadata": {
    "id": "qHdMlI97RioN"
   },
   "source": [
    " From the above output, we can see that there is nearly no difference between the train and test accuracy, hence we can conclude that the decision tree is less over-fiited after specifying some of the hyperparameters."
   ]
  },
  {
   "cell_type": "markdown",
   "metadata": {
    "id": "umRksYDgRioN"
   },
   "source": [
    "# Tune the Hyperparameters using GridSearchCV (Decision Tree)"
   ]
  },
  {
   "cell_type": "code",
   "execution_count": null,
   "metadata": {
    "colab": {
     "background_save": true
    },
    "id": "nHA8k-OBRioO",
    "outputId": "b36a7492-828d-4e6a-bcf7-5a59169dd9bf"
   },
   "outputs": [
    {
     "name": "stdout",
     "output_type": "stream",
     "text": [
      "Best parameters for decision tree classifier:  {'criterion': 'gini', 'max_depth': 5, 'max_features': 'sqrt', 'max_leaf_nodes': 9, 'min_samples_leaf': 1, 'min_samples_split': 2} \n",
      "\n"
     ]
    }
   ],
   "source": [
    "tuned_paramaters = [{'criterion': ['entropy', 'gini'], \n",
    "                     'max_depth': range(2, 10),\n",
    "                     'max_features': [\"sqrt\", \"log2\"],\n",
    "                     'min_samples_split': range(2,10),\n",
    "                     'min_samples_leaf': range(1,10),\n",
    "                     'max_leaf_nodes': range(1, 10)}]\n",
    " \n",
    "decision_tree_classification = DecisionTreeClassifier(random_state = 10)\n",
    "\n",
    "tree_grid = GridSearchCV(estimator = decision_tree_classification, \n",
    "                         param_grid = tuned_paramaters, \n",
    "                         cv = 5)\n",
    "\n",
    "tree_grid_model = tree_grid.fit(X_train, y_train)\n",
    "\n",
    "print('Best parameters for decision tree classifier: ', tree_grid_model.best_params_, '\\n')"
   ]
  },
  {
   "cell_type": "markdown",
   "metadata": {
    "id": "PEs-DG60S9DX"
   },
   "source": [
    "Building the model using the tuned hyperparameters."
   ]
  },
  {
   "cell_type": "markdown",
   "metadata": {
    "id": "M1GWBa6ES7R1"
   },
   "source": []
  },
  {
   "cell_type": "code",
   "execution_count": 83,
   "metadata": {
    "id": "Y4MWJAMYRioO"
   },
   "outputs": [],
   "source": [
    "dt_model = DecisionTreeClassifier(criterion = 'gini',\n",
    "                                  max_depth = 5,\n",
    "                                  max_features = 'sqrt',\n",
    "                                  max_leaf_nodes = 9,\n",
    "                                  min_samples_leaf = 1,\n",
    "                                  min_samples_split = 2,\n",
    "                                  random_state = 10)\n",
    "\n",
    "dt_model = dt_model.fit(X_train, y_train)"
   ]
  },
  {
   "cell_type": "code",
   "execution_count": 84,
   "metadata": {
    "colab": {
     "base_uri": "https://localhost:8080/",
     "height": 569
    },
    "id": "7Q9dni2TTGrF",
    "outputId": "822b11ca-9cbf-460b-b104-60fdd4f0075f"
   },
   "outputs": [
    {
     "data": {
      "image/png": "[encoded data removed]",
      "text/plain": [
       "<IPython.core.display.Image object>"
      ]
     },
     "execution_count": 84,
     "metadata": {},
     "output_type": "execute_result"
    }
   ],
   "source": [
    "labels = X_train.columns\n",
    "\n",
    "dot_data = tree.export_graphviz(dt_model, feature_names = labels, class_names = [\"0\",\"1\"])  \n",
    "\n",
    "graph = pydotplus.graph_from_dot_data(dot_data)  \n",
    "\n",
    "Image(graph.create_png())"
   ]
  },
  {
   "cell_type": "code",
   "execution_count": 85,
   "metadata": {
    "colab": {
     "base_uri": "https://localhost:8080/"
    },
    "id": "p6tJ0AFdTZ4I",
    "outputId": "537f8b4d-23f6-4ad5-d45c-1e69ce9c3723"
   },
   "outputs": [
    {
     "name": "stdout",
     "output_type": "stream",
     "text": [
      "Classification Report for train set: \n",
      "               precision    recall  f1-score   support\n",
      "\n",
      "           0       0.63      0.65      0.64    217945\n",
      "           1       0.61      0.59      0.60    207031\n",
      "\n",
      "    accuracy                           0.62    424976\n",
      "   macro avg       0.62      0.62      0.62    424976\n",
      "weighted avg       0.62      0.62      0.62    424976\n",
      "\n"
     ]
    }
   ],
   "source": [
    "# performance measures on the train set\n",
    "\n",
    "print('Classification Report for train set: \\n', get_train_report(dt_model))"
   ]
  },
  {
   "cell_type": "markdown",
   "metadata": {
    "id": "yNow0qwPKjIq"
   },
   "source": [
    "The accuracy is 0.62"
   ]
  },
  {
   "cell_type": "code",
   "execution_count": 86,
   "metadata": {
    "colab": {
     "base_uri": "https://localhost:8080/"
    },
    "id": "u2XoX5OtTp3T",
    "outputId": "1b07566d-41fa-4c57-b367-87bc5f3bf3b9"
   },
   "outputs": [
    {
     "name": "stdout",
     "output_type": "stream",
     "text": [
      "Classification Report for test set: \n",
      "               precision    recall  f1-score   support\n",
      "\n",
      "           0       0.63      0.65      0.64     93393\n",
      "           1       0.62      0.59      0.60     88740\n",
      "\n",
      "    accuracy                           0.62    182133\n",
      "   macro avg       0.62      0.62      0.62    182133\n",
      "weighted avg       0.62      0.62      0.62    182133\n",
      "\n"
     ]
    }
   ],
   "source": [
    "# performance measures on the test set\n",
    "\n",
    "print('Classification Report for test set: \\n', get_test_report(dt_model))"
   ]
  },
  {
   "cell_type": "markdown",
   "metadata": {
    "id": "4LbzJAH2T7fl"
   },
   "source": [
    "From the above output, we can see that there is no significant difference between the train and test accuracy; thus, we can conclude that the decision tree after tuning the hyperparameters avoids the over-fitting of the data."
   ]
  },
  {
   "cell_type": "markdown",
   "metadata": {
    "id": "ysFpE6zhUK9y"
   },
   "source": [
    "# Random Forest"
   ]
  },
  {
   "cell_type": "code",
   "execution_count": 87,
   "metadata": {
    "id": "A6mvdZJbT9Ia"
   },
   "outputs": [],
   "source": [
    "rf_classification = RandomForestClassifier(n_estimators = 10, random_state = 10)\n",
    "\n",
    "rf_model = rf_classification.fit(X_train, y_train)"
   ]
  },
  {
   "cell_type": "code",
   "execution_count": 88,
   "metadata": {
    "colab": {
     "base_uri": "https://localhost:8080/"
    },
    "id": "y0FDKw19Ufb2",
    "outputId": "c50236f3-915d-4a5c-d2db-eaee0b98ce95"
   },
   "outputs": [
    {
     "name": "stdout",
     "output_type": "stream",
     "text": [
      "              precision    recall  f1-score   support\n",
      "\n",
      "           0       0.97      0.98      0.98    217945\n",
      "           1       0.98      0.97      0.97    207031\n",
      "\n",
      "    accuracy                           0.98    424976\n",
      "   macro avg       0.98      0.98      0.98    424976\n",
      "weighted avg       0.98      0.98      0.98    424976\n",
      "\n"
     ]
    }
   ],
   "source": [
    "train_report = get_train_report(rf_model)\n",
    "\n",
    "print(train_report) "
   ]
  },
  {
   "cell_type": "code",
   "execution_count": 89,
   "metadata": {
    "colab": {
     "base_uri": "https://localhost:8080/"
    },
    "id": "cFNNaZUYUjmf",
    "outputId": "cf4410d9-ee87-465e-8403-094f184c42a6"
   },
   "outputs": [
    {
     "name": "stdout",
     "output_type": "stream",
     "text": [
      "              precision    recall  f1-score   support\n",
      "\n",
      "           0       0.80      0.88      0.84     93393\n",
      "           1       0.86      0.78      0.82     88740\n",
      "\n",
      "    accuracy                           0.83    182133\n",
      "   macro avg       0.83      0.83      0.83    182133\n",
      "weighted avg       0.83      0.83      0.83    182133\n",
      "\n"
     ]
    }
   ],
   "source": [
    "test_report = get_test_report(rf_model)\n",
    "\n",
    "print(test_report)"
   ]
  },
  {
   "cell_type": "code",
   "execution_count": 90,
   "metadata": {
    "colab": {
     "base_uri": "https://localhost:8080/"
    },
    "id": "Ud_uhX2-j-2o",
    "outputId": "31a126ce-b693-4ff1-fa9d-648b1f296237"
   },
   "outputs": [
    {
     "name": "stdout",
     "output_type": "stream",
     "text": [
      "Train data:\n",
      "               precision    recall  f1-score   support\n",
      "\n",
      "           0       0.65      0.68      0.67    217945\n",
      "           1       0.65      0.62      0.63    207031\n",
      "\n",
      "    accuracy                           0.65    424976\n",
      "   macro avg       0.65      0.65      0.65    424976\n",
      "weighted avg       0.65      0.65      0.65    424976\n",
      "\n",
      "Test data:\n",
      "               precision    recall  f1-score   support\n",
      "\n",
      "           0       0.65      0.68      0.67     93393\n",
      "           1       0.65      0.62      0.63     88740\n",
      "\n",
      "    accuracy                           0.65    182133\n",
      "   macro avg       0.65      0.65      0.65    182133\n",
      "weighted avg       0.65      0.65      0.65    182133\n",
      "\n"
     ]
    }
   ],
   "source": [
    "# To avoid Overfitting\n",
    "\n",
    "rfa_model = RandomForestClassifier(criterion = 'gini',\n",
    "                                  max_depth = 5,\n",
    "                                  min_samples_split = 4,\n",
    "                                  max_leaf_nodes = 6,\n",
    "                                  random_state = 10)\n",
    "\n",
    "random_forest = rfa_model.fit(X_train, y_train)\n",
    "\n",
    "train_report = get_train_report(random_forest)\n",
    "\n",
    "print('Train data:\\n', train_report)\n",
    "\n",
    "test_report = get_test_report(random_forest)\n",
    "\n",
    "print('Test data:\\n', test_report)"
   ]
  },
  {
   "cell_type": "code",
   "execution_count": 91,
   "metadata": {
    "colab": {
     "base_uri": "https://localhost:8080/",
     "height": 302
    },
    "id": "EOHPZQzKU4WE",
    "outputId": "92535b08-64da-4bd6-9a14-4824d43f70a8"
   },
   "outputs": [
    {
     "data": {
      "image/png": "[encoded data removed]",
      "text/plain": [
       "<Figure size 432x288 with 1 Axes>"
      ]
     },
     "metadata": {
      "needs_background": "light"
     },
     "output_type": "display_data"
    }
   ],
   "source": [
    "# Feature Importance\n",
    "\n",
    "important_features = pd.DataFrame({'Features': X_train.columns, \n",
    "                                   'Importance': rf_model.feature_importances_})\n",
    "\n",
    "important_features = important_features.sort_values('Importance', ascending = False)\n",
    "\n",
    "sns.barplot(x = 'Importance', y = 'Features', data = important_features)\n",
    "\n",
    "plt.title('Feature Importance', fontsize = 15)\n",
    "plt.xlabel('Importance', fontsize = 15)\n",
    "plt.ylabel('Features', fontsize = 15)\n",
    "plt.show()"
   ]
  },
  {
   "cell_type": "markdown",
   "metadata": {
    "id": "AKnDhutKVMCx"
   },
   "source": [
    "From the above bar plot, we can see that zipcode is the most important feature in the dataset.i.e, which region is getting more consumer complaints"
   ]
  },
  {
   "cell_type": "markdown",
   "metadata": {
    "id": "teQ6S97YViNm"
   },
   "source": [
    "# AdaBoost"
   ]
  },
  {
   "cell_type": "code",
   "execution_count": 92,
   "metadata": {
    "colab": {
     "base_uri": "https://localhost:8080/"
    },
    "id": "xjGldp_jVYyb",
    "outputId": "a2017016-2f03-4533-c7a9-88d529a54ce1"
   },
   "outputs": [
    {
     "data": {
      "text/plain": [
       "AdaBoostClassifier(n_estimators=40, random_state=10)"
      ]
     },
     "execution_count": 92,
     "metadata": {},
     "output_type": "execute_result"
    }
   ],
   "source": [
    "ada_model = AdaBoostClassifier(n_estimators = 40, random_state = 10)\n",
    "\n",
    "ada_model.fit(X_train, y_train)"
   ]
  },
  {
   "cell_type": "code",
   "execution_count": 93,
   "metadata": {
    "id": "3YaORCdeWmyp"
   },
   "outputs": [],
   "source": [
    "# Generalised functions\n",
    "\n",
    "def plot_confusion_matrix(model):\n",
    "    y_pred = model.predict(X_test)\n",
    "    cm = confusion_matrix(y_test, y_pred)\n",
    "    conf_matrix = pd.DataFrame(data = cm,columns = ['Predicted:0','Predicted:1'], index = ['Actual:0','Actual:1'])\n",
    "\n",
    "    sns.heatmap(conf_matrix, annot = True, fmt = 'd', cmap = ListedColormap(['lightskyblue']), cbar = False, \n",
    "                linewidths = 0.1, annot_kws = {'size':25})\n",
    "\n",
    "    plt.xticks(fontsize = 20)\n",
    "    plt.yticks(fontsize = 20)\n",
    "    plt.show()\n",
    "\n",
    "def get_test_report(model):\n",
    "    \n",
    "    test_pred = model.predict(X_test)\n",
    "\n",
    "    return(classification_report(y_test, test_pred))\n",
    "\n",
    "def plot_roc(model):\n",
    "    y_pred_prob = model.predict_proba(X_test)[:,1]\n",
    "    \n",
    "    fpr, tpr, thresholds = roc_curve(y_test, y_pred_prob)\n",
    "\n",
    "    plt.plot(fpr, tpr)\n",
    "    plt.xlim([0.0, 1.0])\n",
    "    plt.ylim([0.0, 1.0])\n",
    "    plt.plot([0, 1], [0, 1],'r--')\n",
    "\n",
    "    plt.title('ROC curve for Admission Prediction Classifier', fontsize = 15)\n",
    "    plt.xlabel('False positive rate (1-Specificity)', fontsize = 15)\n",
    "    plt.ylabel('True positive rate (Sensitivity)', fontsize = 15)\n",
    "    plt.text(x = 0.82, y = 0.3, s = ('AUC Score:',round(roc_auc_score(y_test, y_pred_prob),4)))\n",
    "    plt.grid(True)"
   ]
  },
  {
   "cell_type": "code",
   "execution_count": 94,
   "metadata": {
    "colab": {
     "base_uri": "https://localhost:8080/",
     "height": 274
    },
    "id": "ed3E0NpzWX6R",
    "outputId": "87f0031d-53e5-43d6-be11-760cfc6beaae"
   },
   "outputs": [
    {
     "data": {
      "image/png": "[encoded data removed]",
      "text/plain": [
       "<Figure size 432x288 with 1 Axes>"
      ]
     },
     "metadata": {
      "needs_background": "light"
     },
     "output_type": "display_data"
    }
   ],
   "source": [
    "plot_confusion_matrix(ada_model)"
   ]
  },
  {
   "cell_type": "code",
   "execution_count": 95,
   "metadata": {
    "colab": {
     "base_uri": "https://localhost:8080/"
    },
    "id": "Oiy66vAeXGF6",
    "outputId": "d1c122aa-e3af-4800-cd3e-2ad1c45ae1c2"
   },
   "outputs": [
    {
     "name": "stdout",
     "output_type": "stream",
     "text": [
      "              precision    recall  f1-score   support\n",
      "\n",
      "           0       0.70      0.68      0.69     93393\n",
      "           1       0.67      0.69      0.68     88740\n",
      "\n",
      "    accuracy                           0.68    182133\n",
      "   macro avg       0.68      0.68      0.68    182133\n",
      "weighted avg       0.69      0.68      0.68    182133\n",
      "\n"
     ]
    }
   ],
   "source": [
    "test_report = get_test_report(ada_model)\n",
    "\n",
    "print(test_report)"
   ]
  },
  {
   "cell_type": "code",
   "execution_count": 96,
   "metadata": {
    "colab": {
     "base_uri": "https://localhost:8080/",
     "height": 302
    },
    "id": "ionUjxd_XPhz",
    "outputId": "e0a5f23b-48c9-4eae-bd4b-8ab58941cbdf"
   },
   "outputs": [
    {
     "data": {
      "image/png": "[encoded data removed]",
      "text/plain": [
       "<Figure size 432x288 with 1 Axes>"
      ]
     },
     "metadata": {
      "needs_background": "light"
     },
     "output_type": "display_data"
    }
   ],
   "source": [
    "plot_roc(ada_model)"
   ]
  },
  {
   "cell_type": "markdown",
   "metadata": {
    "id": "JGC8bLAFX7dM"
   },
   "source": [
    "# Gradient Boosting"
   ]
  },
  {
   "cell_type": "code",
   "execution_count": 97,
   "metadata": {
    "colab": {
     "base_uri": "https://localhost:8080/"
    },
    "id": "WGIjNn3rX6dQ",
    "outputId": "d9b0f863-49c2-471a-f339-a64258a180ed"
   },
   "outputs": [
    {
     "data": {
      "text/plain": [
       "GradientBoostingClassifier(max_depth=10, n_estimators=150, random_state=10)"
      ]
     },
     "execution_count": 97,
     "metadata": {},
     "output_type": "execute_result"
    }
   ],
   "source": [
    "gboost_model = GradientBoostingClassifier(n_estimators = 150, max_depth = 10, random_state = 10)\n",
    "\n",
    "# fit the model using fit() on train data\n",
    "gboost_model.fit(X_train, y_train)"
   ]
  },
  {
   "cell_type": "code",
   "execution_count": 98,
   "metadata": {
    "colab": {
     "base_uri": "https://localhost:8080/",
     "height": 274
    },
    "id": "p0v9TLf8YGDz",
    "outputId": "6f07e154-7b73-49ad-a316-738bed38c69b"
   },
   "outputs": [
    {
     "data": {
      "image/png": "[encoded data removed]",
      "text/plain": [
       "<Figure size 432x288 with 1 Axes>"
      ]
     },
     "metadata": {
      "needs_background": "light"
     },
     "output_type": "display_data"
    }
   ],
   "source": [
    "plot_confusion_matrix(gboost_model)"
   ]
  },
  {
   "cell_type": "code",
   "execution_count": 99,
   "metadata": {
    "colab": {
     "base_uri": "https://localhost:8080/"
    },
    "id": "OLnMmbaNYIb4",
    "outputId": "568a94eb-beca-4977-9191-7cf550f8b8bb"
   },
   "outputs": [
    {
     "name": "stdout",
     "output_type": "stream",
     "text": [
      "              precision    recall  f1-score   support\n",
      "\n",
      "           0       0.79      0.95      0.86     93393\n",
      "           1       0.93      0.73      0.82     88740\n",
      "\n",
      "    accuracy                           0.84    182133\n",
      "   macro avg       0.86      0.84      0.84    182133\n",
      "weighted avg       0.86      0.84      0.84    182133\n",
      "\n"
     ]
    }
   ],
   "source": [
    "test_report = get_test_report(gboost_model)\n",
    "\n",
    "print(test_report)"
   ]
  },
  {
   "cell_type": "code",
   "execution_count": 100,
   "metadata": {
    "colab": {
     "base_uri": "https://localhost:8080/",
     "height": 302
    },
    "id": "HTN87ZNqYJ7A",
    "outputId": "a9200c92-8662-4efe-cfdd-65857ddc0e49"
   },
   "outputs": [
    {
     "data": {
      "image/png": "[encoded data removed]",
      "text/plain": [
       "<Figure size 432x288 with 1 Axes>"
      ]
     },
     "metadata": {
      "needs_background": "light"
     },
     "output_type": "display_data"
    }
   ],
   "source": [
    "plot_roc(gboost_model)"
   ]
  },
  {
   "cell_type": "code",
   "execution_count": 109,
   "metadata": {
    "colab": {
     "base_uri": "https://localhost:8080/"
    },
    "id": "eKtjghJ8pCQ4",
    "outputId": "b36b76f0-bb70-4a09-beb4-7910229144a4"
   },
   "outputs": [
    {
     "name": "stdout",
     "output_type": "stream",
     "text": [
      "Train data:\n",
      "               precision    recall  f1-score   support\n",
      "\n",
      "           0       0.78      0.86      0.82    217945\n",
      "           1       0.84      0.74      0.78    207031\n",
      "\n",
      "    accuracy                           0.80    424976\n",
      "   macro avg       0.81      0.80      0.80    424976\n",
      "weighted avg       0.80      0.80      0.80    424976\n",
      "\n",
      "Test data:\n",
      "               precision    recall  f1-score   support\n",
      "\n",
      "           0       0.77      0.86      0.82     93393\n",
      "           1       0.84      0.73      0.78     88740\n",
      "\n",
      "    accuracy                           0.80    182133\n",
      "   macro avg       0.80      0.80      0.80    182133\n",
      "weighted avg       0.80      0.80      0.80    182133\n",
      "\n"
     ]
    }
   ],
   "source": [
    "# To avoid overfitting\n",
    "\n",
    "gboost_grid_model = GradientBoostingClassifier(n_estimators = 100, max_depth = 5, random_state = 10)\n",
    "\n",
    "gb_model = gboost_grid_model.fit(X_train, y_train)\n",
    "\n",
    "train_report = get_train_report(gb_model)\n",
    "\n",
    "print('Train data:\\n', train_report)\n",
    "\n",
    "test_report = get_test_report(gb_model)\n",
    "\n",
    "print('Test data:\\n', test_report)"
   ]
  },
  {
   "cell_type": "markdown",
   "metadata": {
    "id": "9EWapM0dYQXm"
   },
   "source": [
    "# XGBoost"
   ]
  },
  {
   "cell_type": "code",
   "execution_count": 101,
   "metadata": {
    "colab": {
     "base_uri": "https://localhost:8080/"
    },
    "id": "TxPdEIWXYSNJ",
    "outputId": "61db448f-0f04-4621-f4f4-9d735e9ec301"
   },
   "outputs": [
    {
     "data": {
      "text/plain": [
       "XGBClassifier(gamma=1, max_depth=10)"
      ]
     },
     "execution_count": 101,
     "metadata": {},
     "output_type": "execute_result"
    }
   ],
   "source": [
    "xgb_model = XGBClassifier(max_depth = 10, gamma = 1)\n",
    "\n",
    "xgb_model.fit(X_train, y_train)"
   ]
  },
  {
   "cell_type": "code",
   "execution_count": 102,
   "metadata": {
    "colab": {
     "base_uri": "https://localhost:8080/",
     "height": 274
    },
    "id": "Ca8FXVCZYYk7",
    "outputId": "08ab84c4-4359-48ba-e110-0bd0333dcf14"
   },
   "outputs": [
    {
     "data": {
      "image/png": "[encoded data removed]",
      "text/plain": [
       "<Figure size 432x288 with 1 Axes>"
      ]
     },
     "metadata": {
      "needs_background": "light"
     },
     "output_type": "display_data"
    }
   ],
   "source": [
    "plot_confusion_matrix(xgb_model)"
   ]
  },
  {
   "cell_type": "code",
   "execution_count": 103,
   "metadata": {
    "colab": {
     "base_uri": "https://localhost:8080/"
    },
    "id": "zTEB08yOYbKZ",
    "outputId": "3717bf22-16d1-4303-c523-2266f01239ae"
   },
   "outputs": [
    {
     "name": "stdout",
     "output_type": "stream",
     "text": [
      "              precision    recall  f1-score   support\n",
      "\n",
      "           0       0.77      0.72      0.74     93393\n",
      "           1       0.72      0.77      0.74     88740\n",
      "\n",
      "    accuracy                           0.74    182133\n",
      "   macro avg       0.74      0.74      0.74    182133\n",
      "weighted avg       0.74      0.74      0.74    182133\n",
      "\n"
     ]
    }
   ],
   "source": [
    "test_report = get_test_report(xgb_model)\n",
    "\n",
    "print(test_report)"
   ]
  },
  {
   "cell_type": "code",
   "execution_count": 104,
   "metadata": {
    "colab": {
     "base_uri": "https://localhost:8080/",
     "height": 302
    },
    "id": "NfsO7wPlYe-b",
    "outputId": "f5fce904-c0d2-4bec-d4aa-c4bfedd3032d"
   },
   "outputs": [
    {
     "data": {
      "image/png": "[encoded data removed]",
      "text/plain": [
       "<Figure size 432x288 with 1 Axes>"
      ]
     },
     "metadata": {
      "needs_background": "light"
     },
     "output_type": "display_data"
    }
   ],
   "source": [
    "plot_roc(xgb_model)"
   ]
  },
  {
   "cell_type": "markdown",
   "metadata": {
    "id": "eTdolWf4YpQw"
   },
   "source": [
    "# Tune the Hyperparameters (GridSearchCV) - for XGBoost model"
   ]
  },
  {
   "cell_type": "code",
   "execution_count": 91,
   "metadata": {
    "colab": {
     "base_uri": "https://localhost:8080/"
    },
    "id": "m6voaiYEYtTL",
    "outputId": "c70ec39d-f008-4c83-f3e2-277554554f41"
   },
   "outputs": [
    {
     "name": "stdout",
     "output_type": "stream",
     "text": [
      "Best parameters for XGBoost classifier:  {'gamma': 0, 'learning_rate': 0.1, 'max_depth': 7} \n",
      "\n"
     ]
    }
   ],
   "source": [
    "tuning_parameters = {'learning_rate': [0.1, 0.2, 0.3, 0.4, 0.5, 0.6],\n",
    "                     'max_depth': range(3,10),\n",
    "                     'gamma': [0, 1, 2, 3, 4]}\n",
    "\n",
    "xgb_model = XGBClassifier()\n",
    "\n",
    "xgb_grid = GridSearchCV(estimator = xgb_model, param_grid = tuning_parameters, cv = 3, scoring = 'roc_auc')\n",
    "\n",
    "xgb_grid.fit(X_train, y_train)\n",
    "\n",
    "print('Best parameters for XGBoost classifier: ', xgb_grid.best_params_, '\\n')"
   ]
  },
  {
   "cell_type": "code",
   "execution_count": 105,
   "metadata": {
    "colab": {
     "base_uri": "https://localhost:8080/"
    },
    "id": "tNHG5E0eKKde",
    "outputId": "4827f5b5-9643-451b-9610-ed91ae401421"
   },
   "outputs": [
    {
     "name": "stdout",
     "output_type": "stream",
     "text": [
      "Classification Report for test set:\n",
      "               precision    recall  f1-score   support\n",
      "\n",
      "           0       0.74      0.69      0.71     93393\n",
      "           1       0.69      0.75      0.72     88740\n",
      "\n",
      "    accuracy                           0.72    182133\n",
      "   macro avg       0.72      0.72      0.72    182133\n",
      "weighted avg       0.72      0.72      0.72    182133\n",
      "\n"
     ]
    }
   ],
   "source": [
    "# Build the model using the tuned hyperparameters.\n",
    "\n",
    "xgb_grid_model = XGBClassifier(learning_rate = 0.1,\n",
    "                               max_depth = 7,\n",
    "                              gamma = 0)\n",
    "\n",
    "xgb_model = xgb_grid_model.fit(X_train, y_train)\n",
    "\n",
    "print('Classification Report for test set:\\n', get_test_report(xgb_model))"
   ]
  },
  {
   "cell_type": "markdown",
   "metadata": {
    "id": "yobTFS80KsRh"
   },
   "source": [
    "The f1-score is 0.71 and accuracy is 0.72"
   ]
  },
  {
   "cell_type": "code",
   "execution_count": 106,
   "metadata": {
    "colab": {
     "base_uri": "https://localhost:8080/",
     "height": 302
    },
    "id": "tOCi2VGFLDm9",
    "outputId": "e795b9b5-f3bb-4507-b4de-98ac3bb54cd3"
   },
   "outputs": [
    {
     "data": {
      "image/png": "[encoded data removed]",
      "text/plain": [
       "<Figure size 432x288 with 1 Axes>"
      ]
     },
     "metadata": {
      "needs_background": "light"
     },
     "output_type": "display_data"
    }
   ],
   "source": [
    "plot_roc(xgb_model)"
   ]
  },
  {
   "cell_type": "code",
   "execution_count": 107,
   "metadata": {
    "colab": {
     "base_uri": "https://localhost:8080/",
     "height": 302
    },
    "id": "9sLrBSgsLagZ",
    "outputId": "0c039ef5-86f7-4a2d-8045-702ff6aa2230"
   },
   "outputs": [
    {
     "data": {
      "image/png": "[encoded data removed]",
      "text/plain": [
       "<Figure size 432x288 with 1 Axes>"
      ]
     },
     "metadata": {
      "needs_background": "light"
     },
     "output_type": "display_data"
    }
   ],
   "source": [
    "# Identifying the Important Features using XGBoost\n",
    "\n",
    "important_features = pd.DataFrame({'Features': X_train.columns, \n",
    "                                   'Importance': xgb_model.feature_importances_})\n",
    "\n",
    "important_features = important_features.sort_values('Importance', ascending = False)\n",
    "\n",
    "sns.barplot(x = 'Importance', y = 'Features', data = important_features)\n",
    "\n",
    "plt.title('Feature Importance', fontsize = 15)\n",
    "plt.xlabel('Importance', fontsize = 15)\n",
    "plt.ylabel('Features', fontsize = 15)\n",
    "plt.show()"
   ]
  },
  {
   "cell_type": "markdown",
   "metadata": {
    "id": "cXq1g4S8Lz0i"
   },
   "source": [
    "From the above bar plot, we can see that zipcode is the  company is the most important feature"
   ]
  },
  {
   "cell_type": "markdown",
   "metadata": {
    "id": "4oYIY6-5mzhb"
   },
   "source": [
    "# Final Analysis\n"
   ]
  },
  {
   "cell_type": "markdown",
   "metadata": {
    "id": "WiMPxTLo1j2F"
   },
   "source": [
    "Logistic Regression : Kappa Score is 0.21, Sensitivity to specificity Ratio is 0.69 to 0.58, accuracy is 0.64, ROC-AUC score is 0.696\n",
    "\n"
   ]
  },
  {
   "cell_type": "markdown",
   "metadata": {
    "id": "6WE8Q2Gk2i2l"
   },
   "source": [
    "Decision Tree(with tuned Hyperparameters) : Sensitivity to specificity Ratio is 0.59 to 0.65, accuracy is 0.62"
   ]
  },
  {
   "cell_type": "markdown",
   "metadata": {
    "id": "-Sm7VvLhk2bt"
   },
   "source": [
    "Random Forest : Sensitivity to specificity Ratio is 0.62 to 0.68, accuracy is 0.65"
   ]
  },
  {
   "cell_type": "markdown",
   "metadata": {
    "id": "Mw20Ln3839cp"
   },
   "source": [
    "XGBoost(with tuned Hyperparameters)  : Sensitivity to specificity Ratio is 0.75 to 0.69, accuracy is 0.72, ROC-AUC score is 0.80\n"
   ]
  },
  {
   "cell_type": "markdown",
   "metadata": {
    "id": "CHPZJjge42qh"
   },
   "source": [
    "\n",
    "We can conclude that the XGBoost performance is better compared to other models with the ROC-AUC score of 0.80 and Sensitivity to specificity Ratio 0.75 to 0.69"
   ]
  }
 ],
 "metadata": {
  "colab": {
   "collapsed_sections": [],
   "name": "Copy of Consumer Complaints .ipynb",
   "provenance": []
  },
  "kernelspec": {
   "display_name": "Python 3 (ipykernel)",
   "language": "python",
   "name": "python3"
  },
  "language_info": {
   "codemirror_mode": {
    "name": "ipython",
    "version": 3
   },
   "file_extension": ".py",
   "mimetype": "text/x-python",
   "name": "python",
   "nbconvert_exporter": "python",
   "pygments_lexer": "ipython3",
   "version": "3.9.7"
  }
 },
 "nbformat": 4,
 "nbformat_minor": 1
}
